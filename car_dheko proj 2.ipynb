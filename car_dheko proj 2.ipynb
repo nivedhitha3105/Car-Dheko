{
 "cells": [
  {
   "cell_type": "code",
   "execution_count": 1,
   "id": "8242c68e",
   "metadata": {},
   "outputs": [],
   "source": [
    "import pandas as pd"
   ]
  },
  {
   "cell_type": "code",
   "execution_count": 2,
   "id": "18441a82",
   "metadata": {},
   "outputs": [],
   "source": [
    "data = pd.read_csv(\"car_dekho.csv\")"
   ]
  },
  {
   "cell_type": "code",
   "execution_count": 3,
   "id": "936534db",
   "metadata": {},
   "outputs": [
    {
     "data": {
      "text/html": [
       "<div>\n",
       "<style scoped>\n",
       "    .dataframe tbody tr th:only-of-type {\n",
       "        vertical-align: middle;\n",
       "    }\n",
       "\n",
       "    .dataframe tbody tr th {\n",
       "        vertical-align: top;\n",
       "    }\n",
       "\n",
       "    .dataframe thead th {\n",
       "        text-align: right;\n",
       "    }\n",
       "</style>\n",
       "<table border=\"1\" class=\"dataframe\">\n",
       "  <thead>\n",
       "    <tr style=\"text-align: right;\">\n",
       "      <th></th>\n",
       "      <th>it</th>\n",
       "      <th>body type</th>\n",
       "      <th>km</th>\n",
       "      <th>ownerNo</th>\n",
       "      <th>oem</th>\n",
       "      <th>model</th>\n",
       "      <th>modelYear</th>\n",
       "      <th>centralVariantId</th>\n",
       "      <th>variantName</th>\n",
       "      <th>price</th>\n",
       "      <th>...</th>\n",
       "      <th>Acceleration</th>\n",
       "      <th>Tyre Type</th>\n",
       "      <th>Alloy Wheel Size</th>\n",
       "      <th>No Door Numbers</th>\n",
       "      <th>Cargo Volumn</th>\n",
       "      <th>Gross Weight</th>\n",
       "      <th>BoreX Stroke</th>\n",
       "      <th>Compression Ratio</th>\n",
       "      <th>Ground Clearance Unladen</th>\n",
       "      <th>car_links</th>\n",
       "    </tr>\n",
       "  </thead>\n",
       "  <tbody>\n",
       "    <tr>\n",
       "      <th>0</th>\n",
       "      <td>0</td>\n",
       "      <td>Hatchback</td>\n",
       "      <td>120000</td>\n",
       "      <td>2</td>\n",
       "      <td>Hyundai</td>\n",
       "      <td>Hyundai i20</td>\n",
       "      <td>2015</td>\n",
       "      <td>1487</td>\n",
       "      <td>Asta 1.4 CRDi</td>\n",
       "      <td>5.10</td>\n",
       "      <td>...</td>\n",
       "      <td>11.0</td>\n",
       "      <td>Tubeless</td>\n",
       "      <td>16.0</td>\n",
       "      <td>5.0</td>\n",
       "      <td>295.0</td>\n",
       "      <td>NaN</td>\n",
       "      <td>NaN</td>\n",
       "      <td>NaN</td>\n",
       "      <td>NaN</td>\n",
       "      <td>https://www.cardekho.com/used-car-details/used...</td>\n",
       "    </tr>\n",
       "    <tr>\n",
       "      <th>1</th>\n",
       "      <td>0</td>\n",
       "      <td>Hatchback</td>\n",
       "      <td>80000</td>\n",
       "      <td>2</td>\n",
       "      <td>Maruti</td>\n",
       "      <td>Maruti Celerio</td>\n",
       "      <td>2016</td>\n",
       "      <td>3982</td>\n",
       "      <td>VXI AT</td>\n",
       "      <td>3.20</td>\n",
       "      <td>...</td>\n",
       "      <td>15.0</td>\n",
       "      <td>Tubeless  Radial</td>\n",
       "      <td>NaN</td>\n",
       "      <td>5.0</td>\n",
       "      <td>235.0</td>\n",
       "      <td>1250.0</td>\n",
       "      <td>73 X 82</td>\n",
       "      <td>11.0:1</td>\n",
       "      <td>NaN</td>\n",
       "      <td>https://www.cardekho.com/used-car-details/used...</td>\n",
       "    </tr>\n",
       "    <tr>\n",
       "      <th>2</th>\n",
       "      <td>0</td>\n",
       "      <td>Hatchback</td>\n",
       "      <td>44392</td>\n",
       "      <td>1</td>\n",
       "      <td>Hyundai</td>\n",
       "      <td>Hyundai Grand i10</td>\n",
       "      <td>2017</td>\n",
       "      <td>5602</td>\n",
       "      <td>1.2 Kappa Magna BSIV</td>\n",
       "      <td>4.20</td>\n",
       "      <td>...</td>\n",
       "      <td>12.0</td>\n",
       "      <td>Tubeless</td>\n",
       "      <td>NaN</td>\n",
       "      <td>5.0</td>\n",
       "      <td>256.0</td>\n",
       "      <td>NaN</td>\n",
       "      <td>NaN</td>\n",
       "      <td>NaN</td>\n",
       "      <td>NaN</td>\n",
       "      <td>https://www.cardekho.com/buy-used-car-details/...</td>\n",
       "    </tr>\n",
       "    <tr>\n",
       "      <th>3</th>\n",
       "      <td>0</td>\n",
       "      <td>Hatchback</td>\n",
       "      <td>40000</td>\n",
       "      <td>1</td>\n",
       "      <td>Maruti</td>\n",
       "      <td>Maruti Wagon R</td>\n",
       "      <td>2016</td>\n",
       "      <td>4319</td>\n",
       "      <td>AMT VXI</td>\n",
       "      <td>3.50</td>\n",
       "      <td>...</td>\n",
       "      <td>18.0</td>\n",
       "      <td>Tubeless Tyres</td>\n",
       "      <td>NaN</td>\n",
       "      <td>5.0</td>\n",
       "      <td>180.0</td>\n",
       "      <td>1350.0</td>\n",
       "      <td>69 x 72</td>\n",
       "      <td>NaN</td>\n",
       "      <td>NaN</td>\n",
       "      <td>https://www.cardekho.com/used-car-details/used...</td>\n",
       "    </tr>\n",
       "    <tr>\n",
       "      <th>4</th>\n",
       "      <td>0</td>\n",
       "      <td>Sedan</td>\n",
       "      <td>150000</td>\n",
       "      <td>2</td>\n",
       "      <td>Hyundai</td>\n",
       "      <td>Hyundai Verna</td>\n",
       "      <td>2007</td>\n",
       "      <td>1796</td>\n",
       "      <td>CRDi</td>\n",
       "      <td>1.50</td>\n",
       "      <td>...</td>\n",
       "      <td>11.0</td>\n",
       "      <td>Tubeless Radial</td>\n",
       "      <td>14.0</td>\n",
       "      <td>4.0</td>\n",
       "      <td>352.0</td>\n",
       "      <td>1650.0</td>\n",
       "      <td>75 x 87</td>\n",
       "      <td>17.8:1</td>\n",
       "      <td>NaN</td>\n",
       "      <td>https://www.cardekho.com/used-car-details/used...</td>\n",
       "    </tr>\n",
       "  </tbody>\n",
       "</table>\n",
       "<p>5 rows × 67 columns</p>\n",
       "</div>"
      ],
      "text/plain": [
       "   it  body type      km  ownerNo      oem              model  modelYear  \\\n",
       "0   0  Hatchback  120000        2  Hyundai        Hyundai i20       2015   \n",
       "1   0  Hatchback   80000        2   Maruti     Maruti Celerio       2016   \n",
       "2   0  Hatchback   44392        1  Hyundai  Hyundai Grand i10       2017   \n",
       "3   0  Hatchback   40000        1   Maruti     Maruti Wagon R       2016   \n",
       "4   0      Sedan  150000        2  Hyundai      Hyundai Verna       2007   \n",
       "\n",
       "   centralVariantId           variantName price  ...  Acceleration  \\\n",
       "0              1487         Asta 1.4 CRDi  5.10  ...          11.0   \n",
       "1              3982                VXI AT  3.20  ...          15.0   \n",
       "2              5602  1.2 Kappa Magna BSIV  4.20  ...          12.0   \n",
       "3              4319               AMT VXI  3.50  ...          18.0   \n",
       "4              1796                  CRDi  1.50  ...          11.0   \n",
       "\n",
       "          Tyre Type Alloy Wheel Size No Door Numbers Cargo Volumn  \\\n",
       "0          Tubeless             16.0             5.0        295.0   \n",
       "1  Tubeless  Radial              NaN             5.0        235.0   \n",
       "2          Tubeless              NaN             5.0        256.0   \n",
       "3    Tubeless Tyres              NaN             5.0        180.0   \n",
       "4   Tubeless Radial             14.0             4.0        352.0   \n",
       "\n",
       "  Gross Weight BoreX Stroke  Compression Ratio  Ground Clearance Unladen  \\\n",
       "0          NaN          NaN                NaN                       NaN   \n",
       "1       1250.0      73 X 82             11.0:1                       NaN   \n",
       "2          NaN          NaN                NaN                       NaN   \n",
       "3       1350.0      69 x 72                NaN                       NaN   \n",
       "4       1650.0      75 x 87             17.8:1                       NaN   \n",
       "\n",
       "                                           car_links  \n",
       "0  https://www.cardekho.com/used-car-details/used...  \n",
       "1  https://www.cardekho.com/used-car-details/used...  \n",
       "2  https://www.cardekho.com/buy-used-car-details/...  \n",
       "3  https://www.cardekho.com/used-car-details/used...  \n",
       "4  https://www.cardekho.com/used-car-details/used...  \n",
       "\n",
       "[5 rows x 67 columns]"
      ]
     },
     "execution_count": 3,
     "metadata": {},
     "output_type": "execute_result"
    }
   ],
   "source": [
    "data.head()"
   ]
  },
  {
   "cell_type": "code",
   "execution_count": 4,
   "id": "01e5c983",
   "metadata": {},
   "outputs": [
    {
     "name": "stdout",
     "output_type": "stream",
     "text": [
      "<class 'pandas.core.frame.DataFrame'>\n",
      "RangeIndex: 8368 entries, 0 to 8367\n",
      "Data columns (total 67 columns):\n",
      " #   Column                         Non-Null Count  Dtype  \n",
      "---  ------                         --------------  -----  \n",
      " 0   it                             8368 non-null   int64  \n",
      " 1   body type                      8364 non-null   object \n",
      " 2   km                             8368 non-null   int64  \n",
      " 3   ownerNo                        8368 non-null   int64  \n",
      " 4   oem                            8368 non-null   object \n",
      " 5   model                          8368 non-null   object \n",
      " 6   modelYear                      8368 non-null   int64  \n",
      " 7   centralVariantId               8368 non-null   int64  \n",
      " 8   variantName                    8368 non-null   object \n",
      " 9   price                          8368 non-null   object \n",
      " 10  priceActual                    1670 non-null   float64\n",
      " 11  Registration Year              8316 non-null   float64\n",
      " 12  Insurance Validity             8364 non-null   object \n",
      " 13  Fuel Type                      8368 non-null   object \n",
      " 14  RTO                            7474 non-null   object \n",
      " 15  Ownership                      8336 non-null   object \n",
      " 16  Transmission                   8368 non-null   object \n",
      " 17  Year of Manufacture            8348 non-null   float64\n",
      " 18  Features                       8368 non-null   int64  \n",
      " 19  Comfort & Convenience          8300 non-null   float64\n",
      " 20  Interior                       8291 non-null   float64\n",
      " 21  Exterior                       8278 non-null   float64\n",
      " 22  Safety                         8272 non-null   float64\n",
      " 23  Entertainment & Communication  7273 non-null   float64\n",
      " 24  Mileage                        8081 non-null   float64\n",
      " 25  Engine                         8364 non-null   float64\n",
      " 26  Max Power                      8308 non-null   object \n",
      " 27  Torque                         8308 non-null   object \n",
      " 28  Wheel Size                     5386 non-null   float64\n",
      " 29  Engine and Transmission        8365 non-null   float64\n",
      " 30  Color                          8365 non-null   object \n",
      " 31  Engine Type                    8073 non-null   object \n",
      " 32  Displacement                   8364 non-null   float64\n",
      " 33  Max Torque                     8308 non-null   object \n",
      " 34  No of Cylinder                 8337 non-null   float64\n",
      " 35  Values per Cylinder            8317 non-null   float64\n",
      " 36  Value Configuration            6153 non-null   object \n",
      " 37  Fuel Suppy System              6642 non-null   object \n",
      " 38  Turbo Charger                  7329 non-null   object \n",
      " 39  Super Charger                  6407 non-null   object \n",
      " 40  Dimensions & Capacity          8328 non-null   float64\n",
      " 41  Length                         8289 non-null   float64\n",
      " 42  Width                          8285 non-null   float64\n",
      " 43  Height                         8289 non-null   float64\n",
      " 44  Wheel Base                     8205 non-null   float64\n",
      " 45  Front Tread                    4810 non-null   float64\n",
      " 46  Rear Tread                     4798 non-null   float64\n",
      " 47  Kerb Weight                    8309 non-null   object \n",
      " 48  Miscellaneous                  8363 non-null   float64\n",
      " 49  Gear Box                       8262 non-null   object \n",
      " 50  Drive Type                     6809 non-null   object \n",
      " 51  Seating Capacity               8362 non-null   float64\n",
      " 52  Steering Type                  8113 non-null   object \n",
      " 53  Turning Radius                 6768 non-null   float64\n",
      " 54  Front Brake Type               8272 non-null   object \n",
      " 55  Rear Brake Type                8272 non-null   object \n",
      " 56  Top Speed                      4582 non-null   float64\n",
      " 57  Acceleration                   4857 non-null   float64\n",
      " 58  Tyre Type                      8291 non-null   object \n",
      " 59  Alloy Wheel Size               5386 non-null   float64\n",
      " 60  No Door Numbers                8357 non-null   float64\n",
      " 61  Cargo Volumn                   6775 non-null   float64\n",
      " 62  Gross Weight                   3827 non-null   float64\n",
      " 63  BoreX Stroke                   2405 non-null   object \n",
      " 64  Compression Ratio              1895 non-null   object \n",
      " 65  Ground Clearance Unladen       515 non-null    float64\n",
      " 66  car_links                      8368 non-null   object \n",
      "dtypes: float64(32), int64(6), object(29)\n",
      "memory usage: 4.3+ MB\n"
     ]
    }
   ],
   "source": [
    "data.info()"
   ]
  },
  {
   "cell_type": "code",
   "execution_count": 5,
   "id": "5aadd2c1",
   "metadata": {},
   "outputs": [],
   "source": [
    "data = data.drop(columns = 'it',axis = 1)"
   ]
  },
  {
   "cell_type": "code",
   "execution_count": 6,
   "id": "d3607719",
   "metadata": {},
   "outputs": [],
   "source": [
    "data['price'] = data['price'].str.replace(',', '')\n",
    "data['price'] = data['price'].astype(float)\n",
    "data['Registration Year'] = data['Registration Year'].fillna(data['Registration Year'].median())\n",
    "data['Registration Year'] = data['Registration Year'].astype('str')\n",
    "data['Year of Manufacture'].fillna(data['Year of Manufacture'].mean(), inplace=True)\n",
    "data['Year of Manufacture'] = data['Year of Manufacture'].astype('int')\n",
    "data['Comfort & Convenience'].fillna(data['Comfort & Convenience'].mean(), inplace=True)\n",
    "data['Comfort & Convenience'] = data['Comfort & Convenience'].astype('int')\n",
    "data['Interior'].fillna(data['Interior'].mean(), inplace=True)\n",
    "data['Interior'] = data['Interior'].astype('int')\n",
    "data['Exterior'].fillna(data['Exterior'].mean(), inplace=True)\n",
    "data['Exterior'] = data['Exterior'].astype('int')\n",
    "data['Safety'].fillna(data['Safety'].mean(), inplace=True)\n",
    "data['Safety'] = data['Safety'].astype('int')\n",
    "data['Entertainment & Communication'].fillna(data['Entertainment & Communication'].mean(), inplace=True)\n",
    "data['Entertainment & Communication'] = data['Entertainment & Communication'].astype('int')\n",
    "data['Mileage'] = data['Mileage'].astype('float')\n",
    "data['Engine'].fillna(data['Engine'].mean(), inplace=True)\n",
    "data['Engine'] = data['Engine'].astype('int')\n",
    "data['Wheel Size'].fillna(data['Wheel Size'].mean(), inplace=True)\n",
    "data['Wheel Size'] = data['Wheel Size'].astype('int')\n",
    "data['Engine and Transmission'].fillna(data['Engine and Transmission'].mean(), inplace=True)\n",
    "data['Engine and Transmission'] = data['Engine and Transmission'].astype('int')\n",
    "data['Displacement'].fillna(data['Displacement'].mean(),inplace = True)\n",
    "data['Displacement'] = data['Displacement'].astype('int')\n",
    "data['No of Cylinder'].fillna(data['No of Cylinder'].mean(),inplace = True)\n",
    "data['No of Cylinder'] = data['No of Cylinder'].astype('int')\n",
    "data['Values per Cylinder'].fillna(data['Values per Cylinder'].mean(),inplace = True)\n",
    "data['Values per Cylinder'] = data['Values per Cylinder'].astype('int')\n",
    "data['Dimensions & Capacity'].fillna(data['Dimensions & Capacity'].mean(),inplace = True)\n",
    "data['Dimensions & Capacity'] = data['Dimensions & Capacity'].astype('int')\n",
    "data['Length'] = data['Length'].fillna(0).astype(int)\n",
    "data['Length'] = data['Length'].astype('int')\n",
    "data['Width'] = data['Width'].fillna(0).astype(int)\n",
    "data['Width'] = data['Width'].astype('int')\n",
    "data['Height'] = data['Height'].fillna(0).astype(int)\n",
    "data['Height'] = data['Height'].astype('int')\n",
    "data['Wheel Base'] = data['Wheel Base'].fillna(0).astype(int)\n",
    "data['Wheel Base'] = data['Wheel Base'].astype('int')\n",
    "data['Front Tread'] = data['Front Tread'].fillna(0).astype(int)\n",
    "data['Front Tread'] = data['Front Tread'].astype('int')\n",
    "data['Rear Tread'] = data['Rear Tread'].fillna(0).astype(int)\n",
    "data['Rear Tread'] = data['Rear Tread'].astype('int')\n",
    "data['Miscellaneous'].fillna(data['Miscellaneous'].mean(),inplace = True)\n",
    "data['Miscellaneous'] = data['Miscellaneous'].astype('int')\n",
    "data['Seating Capacity'].fillna(data['Seating Capacity'].mean(),inplace = True)\n",
    "data['Seating Capacity'] = data['Seating Capacity'].astype('int')\n",
    "data['Top Speed'] = data['Top Speed'].fillna(0).astype(float)\n",
    "data['Top Speed'] = data['Top Speed'].astype('float')\n",
    "data['Turning Radius'] = data['Turning Radius'].fillna(0).astype(float)\n",
    "data['Turning Radius'] = data['Turning Radius'].astype('float')\n",
    "data['Acceleration'] = data['Acceleration'].fillna(0).astype(float)\n",
    "data['Acceleration'] = data['Acceleration'].astype('float')\n",
    "data['Alloy Wheel Size'].fillna(data['Alloy Wheel Size'].mean(),inplace = True)\n",
    "data['Alloy Wheel Size'] = data['Alloy Wheel Size'].astype('int')\n",
    "data['No Door Numbers'].fillna(data['No Door Numbers'].mean(),inplace = True)\n",
    "data['No Door Numbers'] = data['No Door Numbers'].astype('int')\n",
    "data['Cargo Volumn'].fillna(data['Cargo Volumn'].mean(),inplace = True)\n",
    "data['Cargo Volumn'] = data['Cargo Volumn'].astype('int')\n",
    "data['Gross Weight'].fillna(data['Gross Weight'].mean(),inplace = True)\n",
    "data['Gross Weight'] = data['Gross Weight'].astype('int')\n",
    "data['Ground Clearance Unladen'].fillna(data['Ground Clearance Unladen'].mean(),inplace = True)\n",
    "data['Ground Clearance Unladen'] = data['Ground Clearance Unladen'].astype('int')\n"
   ]
  },
  {
   "cell_type": "code",
   "execution_count": 7,
   "id": "2f664514",
   "metadata": {},
   "outputs": [],
   "source": [
    "data['Registration Year'] = data['Registration Year'].str.replace('.0','')"
   ]
  },
  {
   "cell_type": "code",
   "execution_count": 8,
   "id": "669f8e0e",
   "metadata": {},
   "outputs": [],
   "source": [
    "data = data.drop(columns = 'car_links')"
   ]
  },
  {
   "cell_type": "markdown",
   "id": "53179018",
   "metadata": {},
   "source": [
    "# HANDLING MISSING VALUES"
   ]
  },
  {
   "cell_type": "code",
   "execution_count": 9,
   "id": "b42902b1",
   "metadata": {},
   "outputs": [
    {
     "data": {
      "text/plain": [
       "body type                      4\n",
       "km                             0\n",
       "ownerNo                        0\n",
       "oem                            0\n",
       "model                          0\n",
       "                            ... \n",
       "Cargo Volumn                   0\n",
       "Gross Weight                   0\n",
       "BoreX Stroke                5963\n",
       "Compression Ratio           6473\n",
       "Ground Clearance Unladen       0\n",
       "Length: 65, dtype: int64"
      ]
     },
     "execution_count": 9,
     "metadata": {},
     "output_type": "execute_result"
    }
   ],
   "source": [
    "data.isnull().sum()"
   ]
  },
  {
   "cell_type": "code",
   "execution_count": 10,
   "id": "40fd628b",
   "metadata": {},
   "outputs": [],
   "source": [
    "def impute_categorical(df):\n",
    "    for column in df.select_dtypes(include=['object']).columns:\n",
    "        df[column].fillna(df[column].mode()[0], inplace=True)\n",
    "    return df\n",
    "\n",
    "# Apply the function to your DataFrame\n",
    "data = impute_categorical(data)\n"
   ]
  },
  {
   "cell_type": "code",
   "execution_count": 11,
   "id": "d803186c",
   "metadata": {},
   "outputs": [],
   "source": [
    "import pandas as pd\n",
    "\n",
    "def fill_na_numerical(data, method='mean'):\n",
    "\n",
    "    for col in data.select_dtypes(include=['int64', 'float64']).columns:\n",
    "        if method == 'mean':\n",
    "            fill_value = data[col].mean()  # Compute mean\n",
    "        elif method == 'median':\n",
    "            fill_value = data[col].median()  # Compute median\n",
    "        else:\n",
    "            raise ValueError(\"Method must be either 'mean' or 'median'\")\n",
    "\n",
    "        data[col].fillna(fill_value, inplace=True)\n",
    "    \n",
    "    return data\n",
    "\n",
    "data = fill_na_numerical(data, method='mean')"
   ]
  },
  {
   "cell_type": "code",
   "execution_count": 12,
   "id": "13cccd6a",
   "metadata": {},
   "outputs": [
    {
     "name": "stdout",
     "output_type": "stream",
     "text": [
      "body type                   0\n",
      "km                          0\n",
      "ownerNo                     0\n",
      "oem                         0\n",
      "model                       0\n",
      "                           ..\n",
      "Cargo Volumn                0\n",
      "Gross Weight                0\n",
      "BoreX Stroke                0\n",
      "Compression Ratio           0\n",
      "Ground Clearance Unladen    0\n",
      "Length: 65, dtype: int64\n"
     ]
    }
   ],
   "source": [
    "print(data.isnull().sum())"
   ]
  },
  {
   "cell_type": "code",
   "execution_count": 13,
   "id": "de42a9b6",
   "metadata": {},
   "outputs": [
    {
     "data": {
      "text/plain": [
       "Index(['body type', 'km', 'ownerNo', 'oem', 'model', 'modelYear',\n",
       "       'centralVariantId', 'variantName', 'price', 'priceActual',\n",
       "       'Registration Year', 'Insurance Validity', 'Fuel Type', 'RTO',\n",
       "       'Ownership', 'Transmission', 'Year of Manufacture', 'Features',\n",
       "       'Comfort & Convenience', 'Interior', 'Exterior', 'Safety',\n",
       "       'Entertainment & Communication', 'Mileage', 'Engine', 'Max Power',\n",
       "       'Torque', 'Wheel Size', 'Engine and Transmission', 'Color',\n",
       "       'Engine Type', 'Displacement', 'Max Torque', 'No of Cylinder',\n",
       "       'Values per Cylinder', 'Value Configuration', 'Fuel Suppy System',\n",
       "       'Turbo Charger', 'Super Charger', 'Dimensions & Capacity', 'Length',\n",
       "       'Width', 'Height', 'Wheel Base', 'Front Tread', 'Rear Tread',\n",
       "       'Kerb Weight', 'Miscellaneous', 'Gear Box', 'Drive Type',\n",
       "       'Seating Capacity', 'Steering Type', 'Turning Radius',\n",
       "       'Front Brake Type', 'Rear Brake Type', 'Top Speed', 'Acceleration',\n",
       "       'Tyre Type', 'Alloy Wheel Size', 'No Door Numbers', 'Cargo Volumn',\n",
       "       'Gross Weight', 'BoreX Stroke', 'Compression Ratio',\n",
       "       'Ground Clearance Unladen'],\n",
       "      dtype='object')"
      ]
     },
     "execution_count": 13,
     "metadata": {},
     "output_type": "execute_result"
    }
   ],
   "source": [
    "data.columns"
   ]
  },
  {
   "cell_type": "code",
   "execution_count": 14,
   "id": "5308e098",
   "metadata": {},
   "outputs": [
    {
     "data": {
      "text/plain": [
       "Features\n",
       "9    7266\n",
       "8     975\n",
       "0      65\n",
       "7      19\n",
       "6      14\n",
       "4      10\n",
       "2      10\n",
       "5       8\n",
       "3       1\n",
       "Name: count, dtype: int64"
      ]
     },
     "execution_count": 14,
     "metadata": {},
     "output_type": "execute_result"
    }
   ],
   "source": [
    "data['Features'].value_counts()"
   ]
  },
  {
   "cell_type": "code",
   "execution_count": 15,
   "id": "b5f8f323",
   "metadata": {},
   "outputs": [
    {
     "name": "stdout",
     "output_type": "stream",
     "text": [
      "<class 'pandas.core.frame.DataFrame'>\n",
      "RangeIndex: 8368 entries, 0 to 8367\n",
      "Data columns (total 65 columns):\n",
      " #   Column                         Non-Null Count  Dtype  \n",
      "---  ------                         --------------  -----  \n",
      " 0   body type                      8368 non-null   object \n",
      " 1   km                             8368 non-null   int64  \n",
      " 2   ownerNo                        8368 non-null   int64  \n",
      " 3   oem                            8368 non-null   object \n",
      " 4   model                          8368 non-null   object \n",
      " 5   modelYear                      8368 non-null   int64  \n",
      " 6   centralVariantId               8368 non-null   int64  \n",
      " 7   variantName                    8368 non-null   object \n",
      " 8   price                          8368 non-null   float64\n",
      " 9   priceActual                    8368 non-null   float64\n",
      " 10  Registration Year              8368 non-null   object \n",
      " 11  Insurance Validity             8368 non-null   object \n",
      " 12  Fuel Type                      8368 non-null   object \n",
      " 13  RTO                            8368 non-null   object \n",
      " 14  Ownership                      8368 non-null   object \n",
      " 15  Transmission                   8368 non-null   object \n",
      " 16  Year of Manufacture            8368 non-null   int64  \n",
      " 17  Features                       8368 non-null   int64  \n",
      " 18  Comfort & Convenience          8368 non-null   int64  \n",
      " 19  Interior                       8368 non-null   int64  \n",
      " 20  Exterior                       8368 non-null   int64  \n",
      " 21  Safety                         8368 non-null   int64  \n",
      " 22  Entertainment & Communication  8368 non-null   int64  \n",
      " 23  Mileage                        8368 non-null   float64\n",
      " 24  Engine                         8368 non-null   int64  \n",
      " 25  Max Power                      8368 non-null   object \n",
      " 26  Torque                         8368 non-null   object \n",
      " 27  Wheel Size                     8368 non-null   int64  \n",
      " 28  Engine and Transmission        8368 non-null   int64  \n",
      " 29  Color                          8368 non-null   object \n",
      " 30  Engine Type                    8368 non-null   object \n",
      " 31  Displacement                   8368 non-null   int64  \n",
      " 32  Max Torque                     8368 non-null   object \n",
      " 33  No of Cylinder                 8368 non-null   int64  \n",
      " 34  Values per Cylinder            8368 non-null   int64  \n",
      " 35  Value Configuration            8368 non-null   object \n",
      " 36  Fuel Suppy System              8368 non-null   object \n",
      " 37  Turbo Charger                  8368 non-null   object \n",
      " 38  Super Charger                  8368 non-null   object \n",
      " 39  Dimensions & Capacity          8368 non-null   int64  \n",
      " 40  Length                         8368 non-null   int64  \n",
      " 41  Width                          8368 non-null   int64  \n",
      " 42  Height                         8368 non-null   int64  \n",
      " 43  Wheel Base                     8368 non-null   int64  \n",
      " 44  Front Tread                    8368 non-null   int64  \n",
      " 45  Rear Tread                     8368 non-null   int64  \n",
      " 46  Kerb Weight                    8368 non-null   object \n",
      " 47  Miscellaneous                  8368 non-null   int64  \n",
      " 48  Gear Box                       8368 non-null   object \n",
      " 49  Drive Type                     8368 non-null   object \n",
      " 50  Seating Capacity               8368 non-null   int64  \n",
      " 51  Steering Type                  8368 non-null   object \n",
      " 52  Turning Radius                 8368 non-null   float64\n",
      " 53  Front Brake Type               8368 non-null   object \n",
      " 54  Rear Brake Type                8368 non-null   object \n",
      " 55  Top Speed                      8368 non-null   float64\n",
      " 56  Acceleration                   8368 non-null   float64\n",
      " 57  Tyre Type                      8368 non-null   object \n",
      " 58  Alloy Wheel Size               8368 non-null   int64  \n",
      " 59  No Door Numbers                8368 non-null   int64  \n",
      " 60  Cargo Volumn                   8368 non-null   int64  \n",
      " 61  Gross Weight                   8368 non-null   int64  \n",
      " 62  BoreX Stroke                   8368 non-null   object \n",
      " 63  Compression Ratio              8368 non-null   object \n",
      " 64  Ground Clearance Unladen       8368 non-null   int64  \n",
      "dtypes: float64(6), int64(31), object(28)\n",
      "memory usage: 4.1+ MB\n"
     ]
    }
   ],
   "source": [
    "data.info()"
   ]
  },
  {
   "cell_type": "code",
   "execution_count": 16,
   "id": "d23ccb5b",
   "metadata": {},
   "outputs": [],
   "source": [
    "import matplotlib.pyplot as plt\n",
    "import seaborn as sns"
   ]
  },
  {
   "cell_type": "code",
   "execution_count": 17,
   "id": "4ad70777",
   "metadata": {},
   "outputs": [
    {
     "name": "stdout",
     "output_type": "stream",
     "text": [
      "price                            1.000000\n",
      "ownerNo                          0.129960\n",
      "Acceleration                     0.053781\n",
      "km                               0.037924\n",
      "Dimensions & Capacity            0.012084\n",
      "Top Speed                        0.010221\n",
      "Engine and Transmission          0.002040\n",
      "priceActual                      0.000136\n",
      "Ground Clearance Unladen        -0.000136\n",
      "Turning Radius                  -0.001660\n",
      "Front Tread                     -0.001818\n",
      "Rear Tread                      -0.002471\n",
      "Cargo Volumn                    -0.016882\n",
      "Miscellaneous                   -0.026185\n",
      "No Door Numbers                 -0.038727\n",
      "Seating Capacity                -0.041133\n",
      "Mileage                         -0.042958\n",
      "No of Cylinder                  -0.044653\n",
      "Gross Weight                    -0.069230\n",
      "Engine                          -0.070780\n",
      "Displacement                    -0.070780\n",
      "centralVariantId                -0.079453\n",
      "Entertainment & Communication   -0.085718\n",
      "Values per Cylinder             -0.090653\n",
      "Exterior                        -0.114502\n",
      "Comfort & Convenience           -0.135103\n",
      "Wheel Base                      -0.141550\n",
      "Safety                          -0.177518\n",
      "Interior                        -0.180553\n",
      "Length                          -0.185457\n",
      "Height                          -0.185457\n",
      "Width                           -0.206147\n",
      "Alloy Wheel Size                -0.211561\n",
      "Wheel Size                      -0.211561\n",
      "Features                        -0.213869\n",
      "Year of Manufacture             -0.261452\n",
      "modelYear                       -0.288289\n",
      "Name: price, dtype: float64\n"
     ]
    }
   ],
   "source": [
    "numerical_data = data.select_dtypes(include=['float64', 'int64'])\n",
    "correlation_matrix = numerical_data.corr()\n",
    "price_correlation = correlation_matrix['price'].sort_values(ascending=False)\n",
    "print(price_correlation)"
   ]
  },
  {
   "cell_type": "code",
   "execution_count": 18,
   "id": "f77008bf",
   "metadata": {},
   "outputs": [],
   "source": [
    "from scipy import stats"
   ]
  },
  {
   "cell_type": "code",
   "execution_count": 19,
   "id": "8cb51d82",
   "metadata": {},
   "outputs": [],
   "source": [
    "categorical_columns = data.select_dtypes(include=['object']).columns"
   ]
  },
  {
   "cell_type": "code",
   "execution_count": 20,
   "id": "3d04f970",
   "metadata": {},
   "outputs": [],
   "source": [
    "anova_results = {}"
   ]
  },
  {
   "cell_type": "code",
   "execution_count": 21,
   "id": "2d67cc26",
   "metadata": {},
   "outputs": [
    {
     "name": "stdout",
     "output_type": "stream",
     "text": [
      "ANOVA test results for categorical columns with 'price':\n",
      "\n"
     ]
    }
   ],
   "source": [
    "print(\"ANOVA test results for categorical columns with 'price':\\n\")"
   ]
  },
  {
   "cell_type": "code",
   "execution_count": 22,
   "id": "b4e34cce",
   "metadata": {},
   "outputs": [
    {
     "name": "stdout",
     "output_type": "stream",
     "text": [
      "Column: body type\n",
      "F-Statistic: 9.7602, P-Value: 0.0000\n",
      "----------------------------------------\n",
      "Column: oem\n",
      "F-Statistic: 14.1535, P-Value: 0.0000\n",
      "----------------------------------------\n",
      "Column: model\n",
      "F-Statistic: 12.8343, P-Value: 0.0000\n",
      "----------------------------------------\n",
      "Column: variantName\n",
      "F-Statistic: 4.2981, P-Value: 0.0000\n",
      "----------------------------------------\n",
      "Column: Registration Year\n",
      "F-Statistic: 118.4077, P-Value: 0.0000\n",
      "----------------------------------------\n",
      "Column: Insurance Validity\n",
      "F-Statistic: 26.8295, P-Value: 0.0000\n",
      "----------------------------------------\n",
      "Column: Fuel Type\n",
      "F-Statistic: 10.8890, P-Value: 0.0000\n",
      "----------------------------------------\n",
      "Column: RTO\n",
      "F-Statistic: 1.5388, P-Value: 0.0000\n",
      "----------------------------------------\n",
      "Column: Ownership\n",
      "F-Statistic: 39.7708, P-Value: 0.0000\n",
      "----------------------------------------\n",
      "Column: Transmission\n",
      "F-Statistic: 37.0949, P-Value: 0.0000\n",
      "----------------------------------------\n",
      "Column: Max Power\n",
      "F-Statistic: 8.0569, P-Value: 0.0000\n",
      "----------------------------------------\n",
      "Column: Torque\n",
      "F-Statistic: 10.5001, P-Value: 0.0000\n",
      "----------------------------------------\n",
      "Column: Color\n",
      "F-Statistic: 4.5176, P-Value: 0.0000\n",
      "----------------------------------------\n",
      "Column: Engine Type\n",
      "F-Statistic: 2.5996, P-Value: 0.0000\n",
      "----------------------------------------\n",
      "Column: Max Torque\n",
      "F-Statistic: 8.3938, P-Value: 0.0000\n",
      "----------------------------------------\n",
      "Column: Value Configuration\n",
      "F-Statistic: 10.6711, P-Value: 0.0000\n",
      "----------------------------------------\n",
      "Column: Fuel Suppy System\n",
      "F-Statistic: 5.6770, P-Value: 0.0000\n",
      "----------------------------------------\n",
      "Column: Turbo Charger\n",
      "F-Statistic: 6.1145, P-Value: 0.0000\n",
      "----------------------------------------\n",
      "Column: Super Charger\n",
      "F-Statistic: 0.0597, P-Value: 0.9934\n",
      "----------------------------------------\n",
      "Column: Kerb Weight\n",
      "F-Statistic: 2.7754, P-Value: 0.0000\n",
      "----------------------------------------\n",
      "Column: Gear Box\n",
      "F-Statistic: 1.6105, P-Value: 0.0001\n",
      "----------------------------------------\n",
      "Column: Drive Type\n",
      "F-Statistic: 2.8706, P-Value: 0.0000\n",
      "----------------------------------------\n",
      "Column: Steering Type\n",
      "F-Statistic: 57.9800, P-Value: 0.0000\n",
      "----------------------------------------\n",
      "Column: Front Brake Type\n",
      "F-Statistic: 9.7092, P-Value: 0.0000\n",
      "----------------------------------------\n",
      "Column: Rear Brake Type\n",
      "F-Statistic: 17.0314, P-Value: 0.0000\n",
      "----------------------------------------\n",
      "Column: Tyre Type\n",
      "F-Statistic: 2.3262, P-Value: 0.0001\n",
      "----------------------------------------\n",
      "Column: BoreX Stroke\n",
      "F-Statistic: 15.3974, P-Value: 0.0000\n",
      "----------------------------------------\n",
      "Column: Compression Ratio\n",
      "F-Statistic: 22.9639, P-Value: 0.0000\n",
      "----------------------------------------\n"
     ]
    }
   ],
   "source": [
    "for column in categorical_columns:\n",
    "    categories = data[column].unique()\n",
    "    \n",
    "    # Filter out any NaN values for analysis\n",
    "    data_filtered = data[[column, 'price']].dropna()\n",
    "    \n",
    "    # Group data by each category and extract the price values\n",
    "    groups = [data_filtered[data_filtered[column] == category]['price'] for category in categories]\n",
    "    \n",
    "    # Perform ANOVA\n",
    "    f_stat, p_val = stats.f_oneway(*groups)\n",
    "    anova_results[column] = p_val  # Store p-value for the column\n",
    "    \n",
    "    print(f\"Column: {column}\\nF-Statistic: {f_stat:.4f}, P-Value: {p_val:.4f}\")\n",
    "    print(\"-\" * 40)"
   ]
  },
  {
   "cell_type": "code",
   "execution_count": 23,
   "id": "ce35e32d",
   "metadata": {},
   "outputs": [
    {
     "name": "stdout",
     "output_type": "stream",
     "text": [
      "\n",
      "Categorical columns with a significant relationship to 'price':\n",
      "['body type', 'oem', 'model', 'variantName', 'Registration Year', 'Insurance Validity', 'Fuel Type', 'RTO', 'Ownership', 'Transmission', 'Max Power', 'Torque', 'Color', 'Engine Type', 'Max Torque', 'Value Configuration', 'Fuel Suppy System', 'Turbo Charger', 'Kerb Weight', 'Gear Box', 'Drive Type', 'Steering Type', 'Front Brake Type', 'Rear Brake Type', 'Tyre Type', 'BoreX Stroke', 'Compression Ratio']\n",
      "\n",
      "Mean price per category for categorical columns:\n",
      "\n",
      "body type:\n",
      "body type\n",
      "Convertibles        40.600000\n",
      "Coupe               38.755000\n",
      "Hatchback         1551.373336\n",
      "Hybrids             82.000000\n",
      "MUV                238.005227\n",
      "Minivans         10105.624348\n",
      "Pickup Trucks       10.390000\n",
      "SUV                 15.327960\n",
      "Sedan              713.337001\n",
      "Wagon                5.650000\n",
      "Name: price, dtype: float64\n",
      "\n",
      "----------------------------------------\n",
      "oem:\n",
      "oem\n",
      "Audi                     23.739359\n",
      "BMW                      33.091087\n",
      "Chevrolet              8712.964605\n",
      "Citroen                  19.512500\n",
      "Datsun                    3.478108\n",
      "Fiat                      2.909677\n",
      "Ford                   1235.529775\n",
      "Hindustan Motors          2.850000\n",
      "Honda                   157.502220\n",
      "Hyundai                 901.871872\n",
      "Isuzu                    14.638000\n",
      "Jaguar                   32.801429\n",
      "Jeep                     19.251786\n",
      "Kia                      14.478797\n",
      "Land Rover               42.671818\n",
      "Lexus                    68.350000\n",
      "MG                       19.638667\n",
      "Mahindra                  9.761698\n",
      "Mahindra Renault      14601.070000\n",
      "Mahindra Ssangyong        9.500000\n",
      "Maruti                 1519.965655\n",
      "Mercedes-Benz            34.247020\n",
      "Mini                     30.041667\n",
      "Mitsubishi            11862.947143\n",
      "Nissan                    5.793205\n",
      "Opel                  73333.333333\n",
      "Porsche                  42.666667\n",
      "Renault                   5.361058\n",
      "Skoda                     9.898447\n",
      "Tata                   1958.670209\n",
      "Toyota                   12.716154\n",
      "Volkswagen                7.030102\n",
      "Volvo                    31.887317\n",
      "Name: price, dtype: float64\n",
      "\n",
      "----------------------------------------\n",
      "model:\n",
      "model\n",
      "Ambassador            2.383333\n",
      "Audi A3              23.102941\n",
      "Audi A3 cabriolet    34.950000\n",
      "Audi A4              16.332143\n",
      "Audi A6              19.207097\n",
      "                       ...    \n",
      "Volvo S90            36.750000\n",
      "Volvo V40            18.000000\n",
      "Volvo XC 90          43.430000\n",
      "Volvo XC40           42.161111\n",
      "Volvo XC60           37.759091\n",
      "Name: price, Length: 315, dtype: float64\n",
      "\n",
      "----------------------------------------\n",
      "variantName:\n",
      "variantName\n",
      "1.0                                       25001.900000\n",
      "1.0 AMT RXL                                   3.335000\n",
      "1.0 AMT RXT                                   3.717778\n",
      "1.0 Ecoboost Titanium                         4.535000\n",
      "1.0 Ecoboost Titanium Plus BSIV               8.213333\n",
      "                                              ...     \n",
      "xDrive20d                                    13.247500\n",
      "xDrive20d M Sport                            38.000000\n",
      "xDrive20d xLine                              28.450000\n",
      "xDrive30d M Sport                            31.050000\n",
      "xDrive30i M Sport Black Shadow edition       64.750000\n",
      "Name: price, Length: 2157, dtype: float64\n",
      "\n",
      "----------------------------------------\n",
      "Registration Year:\n",
      "Registration Year\n",
      "2002    26300.715000\n",
      "2003    39231.719231\n",
      "2004    45280.719600\n",
      "2005    23701.182000\n",
      "2006    15280.244524\n",
      "2007    15742.527407\n",
      "2008     7937.455802\n",
      "2009     6787.500355\n",
      "2010     2746.843333\n",
      "2011     1117.109745\n",
      "2012      739.583535\n",
      "2013        5.616606\n",
      "2014      165.412584\n",
      "2015        6.290702\n",
      "2016        7.815855\n",
      "2017      590.884081\n",
      "2018       10.313095\n",
      "2019       10.888173\n",
      "2020       13.297063\n",
      "2021       13.507681\n",
      "2022       15.328529\n",
      "2023       21.564138\n",
      "Name: price, dtype: float64\n",
      "\n",
      "----------------------------------------\n",
      "Insurance Validity:\n",
      "Insurance Validity\n",
      "1                   5.983333\n",
      "2                   4.750000\n",
      "Comprehensive      92.185844\n",
      "Not Available    5826.289058\n",
      "Third Party      1247.514074\n",
      "Zero Dep            7.504785\n",
      "Name: price, dtype: float64\n",
      "\n",
      "----------------------------------------\n",
      "Fuel Type:\n",
      "Fuel Type\n",
      "CNG         1791.064898\n",
      "Diesel       228.222155\n",
      "Electric      17.365357\n",
      "LPG         8795.534375\n",
      "Petrol      1172.972004\n",
      "Name: price, dtype: float64\n",
      "\n",
      "----------------------------------------\n",
      "RTO:\n",
      "RTO\n",
      "22BH    21.50\n",
      "AA28     1.85\n",
      "AN01     2.96\n",
      "AP01     2.20\n",
      "AP02    19.99\n",
      "        ...  \n",
      "wB24     3.79\n",
      "wb02     5.49\n",
      "wb06     7.34\n",
      "wb24     1.70\n",
      "wb52     2.10\n",
      "Name: price, Length: 464, dtype: float64\n",
      "\n",
      "----------------------------------------\n",
      "Ownership:\n",
      "Ownership\n",
      "Fifth     8108.593158\n",
      "First      384.695956\n",
      "Fourth    7691.931375\n",
      "Second    1538.255656\n",
      "Third     3602.520909\n",
      "Name: price, dtype: float64\n",
      "\n",
      "----------------------------------------\n",
      "Transmission:\n",
      "Transmission\n",
      "Automatic      39.295909\n",
      "Manual       1214.549972\n",
      "Name: price, dtype: float64\n",
      "\n",
      "----------------------------------------\n",
      "Max Power:\n",
      "Max Power\n",
      "100 @ 5,800 (PS@rpm)     2.300000\n",
      "100 bhp @ 6500 rpm       1.300000\n",
      "100.57bhp@3600rpm       13.500000\n",
      "100.5bhp@5500rpm         7.040000\n",
      "100.6bhp@3600rpm         9.612917\n",
      "                          ...    \n",
      "98bhp                   20.375000\n",
      "99.23bhp@3750rpm         6.200000\n",
      "99.6bhp@5600rpm          5.700000\n",
      "99.6bhp@6500rpm          1.500000\n",
      "99bhp@3750rpm            3.702857\n",
      "Name: price, Length: 760, dtype: float64\n",
      "\n",
      "----------------------------------------\n",
      "Torque:\n",
      "Torque\n",
      "10.4     54000.500000\n",
      "10.7         5.000000\n",
      "100          1.320000\n",
      "101          2.420000\n",
      "102          2.186000\n",
      "             ...     \n",
      "98.5         8.263333\n",
      "99           5.080000\n",
      "99.04        2.563571\n",
      "99.07        4.430000\n",
      "99.1         2.400000\n",
      "Name: price, Length: 285, dtype: float64\n",
      "\n",
      "----------------------------------------\n",
      "Color:\n",
      "Color\n",
      "Alabaster Silver Metallic                3.40\n",
      "Alabaster Silver Metallic - Amaze        3.80\n",
      "Arctic Silver                        20161.00\n",
      "Arizona Blue                            10.25\n",
      "Aurora Black Pearl                      18.00\n",
      "                                       ...   \n",
      "g brown                                  8.75\n",
      "golden brown                             6.70\n",
      "m grey                                   7.25\n",
      "magma gray                               7.50\n",
      "urban titanim                            7.25\n",
      "Name: price, Length: 153, dtype: float64\n",
      "\n",
      "----------------------------------------\n",
      "Engine Type:\n",
      "Engine Type\n",
      " FIRE Engine                       1.200000\n",
      " In Line Petrol Engine             2.816667\n",
      " Kappa VTVT Petrol Engine          4.047857\n",
      " Petrol Engine                    16.500000\n",
      " V4 Twin Turbo Engine             42.000000\n",
      "                                    ...    \n",
      "water cooled inline 4 cylinder    22.500000\n",
      "xDrive20d Diesel Engine           27.500000\n",
      "xDrive20d Diesel Engine           19.831667\n",
      "xDrive30d Diesel Engine           27.500000\n",
      "xDrive30d Diesel Engine           31.050000\n",
      "Name: price, Length: 508, dtype: float64\n",
      "\n",
      "----------------------------------------\n",
      "Max Torque:\n",
      "Max Torque\n",
      "10.4 @ 3,200 (kgm@rpm)    28001.000000\n",
      "10.4@3,000 (kgm@rpm)      80000.000000\n",
      "10.7 @ 2,500 (kgm@rpm)        5.000000\n",
      "100@1800-3000 (Nm@rpm)        1.140000\n",
      "100Nm@2700rpm                 1.500000\n",
      "                              ...     \n",
      "98Nm@4000rpm                  4.950000\n",
      "99.04Nm@4500rpm               2.563571\n",
      "99.07Nm@4500 rpm              4.430000\n",
      "99.1Nm@4500rpm                2.400000\n",
      "99Nm@4500 rpm                 5.080000\n",
      "Name: price, Length: 617, dtype: float64\n",
      "\n",
      "----------------------------------------\n",
      "Value Configuration:\n",
      "Value Configuration\n",
      "16 Modules 48 Cells        5.500000\n",
      "16-valve DOHC layout      37.650000\n",
      "23 Modules 69 Cells        4.600000\n",
      "DOHC                     482.629317\n",
      "DOHC                    3200.271358\n",
      "DOHC with TIS             15.410000\n",
      "DOHC with VGT             12.460000\n",
      "DOHC with VIS             11.311667\n",
      "SOHC                    2786.278002\n",
      "SOHC                       1.000000\n",
      "VTEC                       2.300000\n",
      "iDSI                       5.088750\n",
      "undefined               8172.993750\n",
      "Name: price, dtype: float64\n",
      "\n",
      "----------------------------------------\n",
      "Fuel Suppy System:\n",
      "Fuel Suppy System\n",
      "3 Phase AC Induction Motors     5.050000\n",
      "Advanced Common Rail            2.000000\n",
      "CDI                            27.519474\n",
      "CNG                             2.695000\n",
      "CRDI                           72.141538\n",
      "                                 ...    \n",
      "TSI                            15.450667\n",
      "Ti-VCT                          3.950000\n",
      "VVT-iE                         49.750000\n",
      "common rail system             16.000000\n",
      "gasoline direct injection      20.250000\n",
      "Name: price, Length: 81, dtype: float64\n",
      "\n",
      "----------------------------------------\n",
      "Turbo Charger:\n",
      "Turbo Charger\n",
      "NO          9.448000\n",
      "No       1351.974228\n",
      "Turbo      37.495000\n",
      "Twin       49.612115\n",
      "YES        17.993333\n",
      "Yes       104.165291\n",
      "no          6.581111\n",
      "twin       64.750000\n",
      "yes        55.556000\n",
      "Name: price, dtype: float64\n",
      "\n",
      "----------------------------------------\n",
      "Super Charger:\n",
      "Super Charger\n",
      "NO      10.350000\n",
      "No     891.205650\n",
      "Yes     23.166429\n",
      "no       1.200000\n",
      "yes     53.166667\n",
      "Name: price, dtype: float64\n",
      "\n",
      "----------------------------------------\n",
      "Kerb Weight:\n",
      "Kerb Weight\n",
      "1000               1.350000\n",
      "1005               1.916667\n",
      "1005-1010          1.990000\n",
      "1010            2255.310250\n",
      "1012               5.303673\n",
      "                   ...     \n",
      "990-995            8.625000\n",
      "993                3.200000\n",
      "995            30964.093750\n",
      "995-1015           3.712500\n",
      "Kerb Weight       12.000000\n",
      "Name: price, Length: 654, dtype: float64\n",
      "\n",
      "----------------------------------------\n",
      "Gear Box:\n",
      "Gear Box\n",
      "10                                   37.475000\n",
      "10 speed                             38.000000\n",
      "10-speed Automatic                    2.690000\n",
      "4                                  6462.201364\n",
      "4-                                    3.984000\n",
      "                                      ...     \n",
      "Six  Geartronic, Six  Automati       10.150000\n",
      "Six  Manual                           6.000000\n",
      "Six  Manual with Paddle Shifter       8.400000\n",
      "eCVT                                 19.000000\n",
      "iMT                                  10.347143\n",
      "Name: price, Length: 103, dtype: float64\n",
      "\n",
      "----------------------------------------\n",
      "Drive Type:\n",
      "Drive Type\n",
      "2 WD                                  1705.542128\n",
      "2WD                                   3533.036289\n",
      "2WD                                      2.800000\n",
      "4 WD                                     5.200000\n",
      "4WD                                     27.500909\n",
      "4X2                                     14.151765\n",
      "4X4                                     17.286829\n",
      "4x2                                     27.406111\n",
      "4x4                                     33.150000\n",
      "AWD                                     33.298688\n",
      "AWD INTEGRATED MANAGEMENT                2.690000\n",
      "All Wheel Drive                          9.477143\n",
      "FWD                                    856.398892\n",
      "FWD                                      3.827647\n",
      "Front Wheel Drive                     1351.072326\n",
      "Permanent all-wheel drive quattro       11.250000\n",
      "RWD                                   1192.225072\n",
      "RWD(with MTT)                           10.236000\n",
      "Rear Wheel Drive with ESP               17.988333\n",
      "Two Wheel Drive                      11669.830667\n",
      "Name: price, dtype: float64\n",
      "\n",
      "----------------------------------------\n",
      "Steering Type:\n",
      "Steering Type\n",
      "EPAS              3.487778\n",
      "Electric          9.784631\n",
      "Electrical       13.809167\n",
      "Electronic        9.137453\n",
      "Hydraulic         3.525000\n",
      "Manual        18375.680233\n",
      "Power           878.895682\n",
      "electric         36.750000\n",
      "power            14.748621\n",
      "Name: price, dtype: float64\n",
      "\n",
      "----------------------------------------\n",
      "Front Brake Type:\n",
      "Front Brake Type\n",
      " Disc                                           2.708333\n",
      " Ventilated Disc                                1.830000\n",
      "ABS                                             4.370000\n",
      "Booster assisted ventilated disc            25000.750000\n",
      "Caliper Ventilated Disc                        74.500000\n",
      "Disc                                          645.706853\n",
      "Disc                                            4.776164\n",
      "Disc & Caliper Type                             6.577619\n",
      "Disc brakes                                     4.000000\n",
      "Disc, 236 mm                                42250.318750\n",
      "Disc,internally ventilated                     34.500000\n",
      "Discs                                           1.500000\n",
      "Disk                                            2.784783\n",
      "Drum                                        14501.561667\n",
      "Electric Parking Brake                         23.000000\n",
      "Mechanical-hydraulic dual circuit              17.700000\n",
      "Multilateral Disc                               4.306667\n",
      "Solid Disc                                   1975.581270\n",
      "Tandem master cylinder with Servo assist        4.950000\n",
      "Vacuum assisted hydraulic dual circuit w       10.000000\n",
      "Vantilated Disc                                 6.961250\n",
      "Ventilated DIsc                                 5.300000\n",
      "Ventilated Disc                              1152.270409\n",
      "Ventilated Disc                                 4.833846\n",
      "Ventilated Discs                             3292.627164\n",
      "Ventilated Disk                             15363.710909\n",
      "Ventilated disc                                 3.250000\n",
      "Ventilated discs                               27.893000\n",
      "Ventillated Disc                                3.266667\n",
      "Ventlated Disc                                  5.140000\n",
      "disc                                           15.928571\n",
      "solid disc                                     64.750000\n",
      "ventilated Disc                                33.750000\n",
      "ventilated disc                                22.500000\n",
      "Name: price, dtype: float64\n",
      "\n",
      "----------------------------------------\n",
      "Rear Brake Type:\n",
      "Rear Brake Type\n",
      "228.6 mm dia, drums on rear wheels              4.950000\n",
      "Booster assisted drum                       25000.750000\n",
      "Disc                                           50.868104\n",
      "Disc                                           17.750000\n",
      "Disc & Caliper Type                             6.577619\n",
      "Disc & Drum                                     2.262857\n",
      "Discs                                          14.442118\n",
      "Drum                                          935.668269\n",
      "Drum                                            4.166667\n",
      "Drum in Discs                                   8.400000\n",
      "Drum in disc                                    4.500000\n",
      "Drum`                                           8.636667\n",
      "Drums                                       24445.373333\n",
      "Drums 180 mm                                42250.318750\n",
      "Electric Parking Brake                         23.000000\n",
      "Leading & Trailing Drum                        10.676250\n",
      "Leading-Trailing Drum                          10.905333\n",
      "Mechanical-hydraulic dual circuit              17.700000\n",
      "Self Adjusting Drum                             5.725000\n",
      "Self Adjusting Drums                            2.225000\n",
      "Self-Adjusting Drum                         23681.038400\n",
      "Solid Disc                                    418.006829\n",
      "Solid Disc                                      2.778000\n",
      "Vacuum assisted hydraulic dual circuit w       10.000000\n",
      "Ventialte Disc                                 11.325000\n",
      "Ventilated Disc                                37.843744\n",
      "Ventilated Disc                                 4.266667\n",
      "Ventilated Discs                               19.649167\n",
      "Ventilated Drum                                 9.892500\n",
      "Ventilated discs                               27.893000\n",
      "disc                                           18.160000\n",
      "drum                                           10.350000\n",
      "self adjusting drums                            1.766667\n",
      "solid disc                                     64.750000\n",
      "ventilated disc                                79.900000\n",
      "Name: price, dtype: float64\n",
      "\n",
      "----------------------------------------\n",
      "Tyre Type:\n",
      "Tyre Type\n",
      "Radial                        4477.424317\n",
      "Radial  Tubeless                 7.516667\n",
      "Radial  Tubless                 14.903415\n",
      "Radial Tubeless                 23.148525\n",
      "Radial Tyres                     1.490000\n",
      "Radial with tube                 8.945000\n",
      "Run-Flat                        32.164286\n",
      "Runflat                         26.937500\n",
      "Runflat Radial                  64.750000\n",
      "Runflat Tyre                    46.112000\n",
      "Runflat Tyres                   46.909091\n",
      "Tubeless                        44.628799\n",
      "Tubeless  Radial               544.773814\n",
      "Tubeless  Radials                4.700000\n",
      "Tubeless  Runflat               53.102941\n",
      "Tubeless Radial               1265.586017\n",
      "Tubeless Radial Tyres         1441.855849\n",
      "Tubeless Radials                 7.185152\n",
      "Tubeless Radials Tyre            2.133333\n",
      "Tubeless Runflat                53.663889\n",
      "Tubeless Tyre                    4.780000\n",
      "Tubeless Tyres                 299.841229\n",
      "Tubeless Tyres  Radial           4.509180\n",
      "Tubeless Tyres All Terrain      62.000000\n",
      "Tubeless Tyres Mud Terrain      62.166667\n",
      "Tubeless. Runflat                1.200000\n",
      "Tubless  Radial                 10.773103\n",
      "Tubless Radial                  32.750000\n",
      "tubeless tyre                    3.934286\n",
      "Name: price, dtype: float64\n",
      "\n",
      "----------------------------------------\n",
      "BoreX Stroke:\n",
      "BoreX Stroke\n",
      "11:01            34.250000\n",
      "16,5 :1          26.500000\n",
      "2.85 X 3.57       4.643636\n",
      "2.99 X 3.46       6.933333\n",
      "3.35 X 3.81       6.466667\n",
      "                   ...    \n",
      "95.0 x 100.0      4.500000\n",
      "95.4X104.9       17.995000\n",
      "96 () / 83 ()    31.500000\n",
      "97 X 100          2.500000\n",
      "98.0 x 90.5       2.450000\n",
      "Name: price, Length: 151, dtype: float64\n",
      "\n",
      "----------------------------------------\n",
      "Compression Ratio:\n",
      "Compression Ratio\n",
      "10           17.400000\n",
      "10.0:1        4.756471\n",
      "10.1          5.634444\n",
      "10.1:1        6.169873\n",
      "10.2:1    47430.214286\n",
      "              ...     \n",
      "9.8           2.897500\n",
      "9.8:1         3.558000\n",
      "9.9:1         2.420000\n",
      "9:01       9001.587500\n",
      ":1            3.046957\n",
      "Name: price, Length: 79, dtype: float64\n",
      "\n",
      "----------------------------------------\n"
     ]
    }
   ],
   "source": [
    "significant_columns = [col for col, p_val in anova_results.items() if p_val < 0.05]\n",
    "print(\"\\nCategorical columns with a significant relationship to 'price':\")\n",
    "print(significant_columns)\n",
    "\n",
    "# Alternatively, calculate mean price for each category\n",
    "print(\"\\nMean price per category for categorical columns:\\n\")\n",
    "for column in categorical_columns:\n",
    "    mean_price_per_category = data.groupby(column)['price'].mean()\n",
    "    print(f\"{column}:\\n{mean_price_per_category}\\n\")\n",
    "    print(\"-\" * 40)"
   ]
  },
  {
   "cell_type": "code",
   "execution_count": 24,
   "id": "6be6529c",
   "metadata": {},
   "outputs": [],
   "source": [
    "data = data.drop(columns = ['ownerNo', 'model', \n",
    "       'centralVariantId', 'variantName',  'priceActual',\n",
    "       'Registration Year', 'Insurance Validity', 'RTO',\n",
    "       'Year of Manufacture', 'Features',\n",
    "       'Comfort & Convenience', 'Interior', 'Exterior', 'Safety',\n",
    "       'Entertainment & Communication',  \n",
    "       'Torque', 'Wheel Size', 'Engine and Transmission', 'Color',\n",
    "       'Engine Type', 'Displacement', 'Max Torque', 'No of Cylinder',\n",
    "       'Values per Cylinder', 'Value Configuration', 'Fuel Suppy System',\n",
    "       'Turbo Charger', 'Super Charger', 'Dimensions & Capacity', 'Length',\n",
    "       'Width', 'Height', 'Wheel Base', 'Front Tread', 'Rear Tread',\n",
    "       'Kerb Weight', 'Miscellaneous', 'Gear Box', 'Drive Type',\n",
    "       'Seating Capacity', 'Max Power', 'Turning Radius',\n",
    "       'Front Brake Type', 'Rear Brake Type', 'Top Speed', 'Acceleration',\n",
    "       'Tyre Type', 'Alloy Wheel Size', 'No Door Numbers', 'Cargo Volumn',\n",
    "       'Gross Weight', 'BoreX Stroke', 'Compression Ratio',\n",
    "       'Ground Clearance Unladen'],axis = 1)"
   ]
  },
  {
   "cell_type": "code",
   "execution_count": 25,
   "id": "a6b48740",
   "metadata": {},
   "outputs": [
    {
     "data": {
      "text/plain": [
       "Index(['body type', 'km', 'oem', 'modelYear', 'price', 'Fuel Type',\n",
       "       'Ownership', 'Transmission', 'Mileage', 'Engine', 'Steering Type'],\n",
       "      dtype='object')"
      ]
     },
     "execution_count": 25,
     "metadata": {},
     "output_type": "execute_result"
    }
   ],
   "source": [
    "data.columns"
   ]
  },
  {
   "cell_type": "code",
   "execution_count": 26,
   "id": "204dc3b5",
   "metadata": {},
   "outputs": [
    {
     "name": "stdout",
     "output_type": "stream",
     "text": [
      "<class 'pandas.core.frame.DataFrame'>\n",
      "RangeIndex: 8368 entries, 0 to 8367\n",
      "Data columns (total 11 columns):\n",
      " #   Column         Non-Null Count  Dtype  \n",
      "---  ------         --------------  -----  \n",
      " 0   body type      8368 non-null   object \n",
      " 1   km             8368 non-null   int64  \n",
      " 2   oem            8368 non-null   object \n",
      " 3   modelYear      8368 non-null   int64  \n",
      " 4   price          8368 non-null   float64\n",
      " 5   Fuel Type      8368 non-null   object \n",
      " 6   Ownership      8368 non-null   object \n",
      " 7   Transmission   8368 non-null   object \n",
      " 8   Mileage        8368 non-null   float64\n",
      " 9   Engine         8368 non-null   int64  \n",
      " 10  Steering Type  8368 non-null   object \n",
      "dtypes: float64(2), int64(3), object(6)\n",
      "memory usage: 719.3+ KB\n"
     ]
    }
   ],
   "source": [
    "data.info()"
   ]
  },
  {
   "cell_type": "markdown",
   "id": "4e6ed393",
   "metadata": {},
   "source": [
    "# EXPLORATORY DATA ANALYSIS"
   ]
  },
  {
   "cell_type": "code",
   "execution_count": 27,
   "id": "4dadd2d4",
   "metadata": {},
   "outputs": [
    {
     "data": {
      "text/html": [
       "<div>\n",
       "<style scoped>\n",
       "    .dataframe tbody tr th:only-of-type {\n",
       "        vertical-align: middle;\n",
       "    }\n",
       "\n",
       "    .dataframe tbody tr th {\n",
       "        vertical-align: top;\n",
       "    }\n",
       "\n",
       "    .dataframe thead th {\n",
       "        text-align: right;\n",
       "    }\n",
       "</style>\n",
       "<table border=\"1\" class=\"dataframe\">\n",
       "  <thead>\n",
       "    <tr style=\"text-align: right;\">\n",
       "      <th></th>\n",
       "      <th>km</th>\n",
       "      <th>modelYear</th>\n",
       "      <th>price</th>\n",
       "      <th>Mileage</th>\n",
       "      <th>Engine</th>\n",
       "    </tr>\n",
       "  </thead>\n",
       "  <tbody>\n",
       "    <tr>\n",
       "      <th>count</th>\n",
       "      <td>8.368000e+03</td>\n",
       "      <td>8368.000000</td>\n",
       "      <td>8368.000000</td>\n",
       "      <td>8368.000000</td>\n",
       "      <td>8368.000000</td>\n",
       "    </tr>\n",
       "    <tr>\n",
       "      <th>mean</th>\n",
       "      <td>5.897335e+04</td>\n",
       "      <td>2016.503824</td>\n",
       "      <td>889.136054</td>\n",
       "      <td>19.255467</td>\n",
       "      <td>1424.762787</td>\n",
       "    </tr>\n",
       "    <tr>\n",
       "      <th>std</th>\n",
       "      <td>7.406537e+04</td>\n",
       "      <td>3.921390</td>\n",
       "      <td>7915.440179</td>\n",
       "      <td>3.961010</td>\n",
       "      <td>477.537018</td>\n",
       "    </tr>\n",
       "    <tr>\n",
       "      <th>min</th>\n",
       "      <td>0.000000e+00</td>\n",
       "      <td>1985.000000</td>\n",
       "      <td>1.000000</td>\n",
       "      <td>7.080000</td>\n",
       "      <td>0.000000</td>\n",
       "    </tr>\n",
       "    <tr>\n",
       "      <th>25%</th>\n",
       "      <td>3.000000e+04</td>\n",
       "      <td>2014.000000</td>\n",
       "      <td>4.000000</td>\n",
       "      <td>17.010000</td>\n",
       "      <td>1197.000000</td>\n",
       "    </tr>\n",
       "    <tr>\n",
       "      <th>50%</th>\n",
       "      <td>5.367450e+04</td>\n",
       "      <td>2017.000000</td>\n",
       "      <td>6.190000</td>\n",
       "      <td>19.020000</td>\n",
       "      <td>1248.000000</td>\n",
       "    </tr>\n",
       "    <tr>\n",
       "      <th>75%</th>\n",
       "      <td>8.000000e+04</td>\n",
       "      <td>2019.000000</td>\n",
       "      <td>9.750000</td>\n",
       "      <td>21.400000</td>\n",
       "      <td>1498.000000</td>\n",
       "    </tr>\n",
       "    <tr>\n",
       "      <th>max</th>\n",
       "      <td>5.500000e+06</td>\n",
       "      <td>2023.000000</td>\n",
       "      <td>99703.000000</td>\n",
       "      <td>140.000000</td>\n",
       "      <td>5000.000000</td>\n",
       "    </tr>\n",
       "  </tbody>\n",
       "</table>\n",
       "</div>"
      ],
      "text/plain": [
       "                 km    modelYear         price      Mileage       Engine\n",
       "count  8.368000e+03  8368.000000   8368.000000  8368.000000  8368.000000\n",
       "mean   5.897335e+04  2016.503824    889.136054    19.255467  1424.762787\n",
       "std    7.406537e+04     3.921390   7915.440179     3.961010   477.537018\n",
       "min    0.000000e+00  1985.000000      1.000000     7.080000     0.000000\n",
       "25%    3.000000e+04  2014.000000      4.000000    17.010000  1197.000000\n",
       "50%    5.367450e+04  2017.000000      6.190000    19.020000  1248.000000\n",
       "75%    8.000000e+04  2019.000000      9.750000    21.400000  1498.000000\n",
       "max    5.500000e+06  2023.000000  99703.000000   140.000000  5000.000000"
      ]
     },
     "execution_count": 27,
     "metadata": {},
     "output_type": "execute_result"
    }
   ],
   "source": [
    "data.describe()"
   ]
  },
  {
   "cell_type": "code",
   "execution_count": 28,
   "id": "5a47e801",
   "metadata": {},
   "outputs": [],
   "source": [
    "import matplotlib.pyplot as plt\n",
    "import seaborn as sns"
   ]
  },
  {
   "cell_type": "code",
   "execution_count": 29,
   "id": "8bd52744",
   "metadata": {},
   "outputs": [],
   "source": [
    "sns.set(style=\"whitegrid\")"
   ]
  },
  {
   "cell_type": "code",
   "execution_count": 30,
   "id": "a0430276",
   "metadata": {},
   "outputs": [
    {
     "data": {
      "image/png": "[encoded data removed]",
      "text/plain": [
       "<Figure size 1000x500 with 1 Axes>"
      ]
     },
     "metadata": {},
     "output_type": "display_data"
    }
   ],
   "source": [
    "plt.figure(figsize=(10,5))\n",
    "data['modelYear'].hist(bins=20,color = 'deeppink')\n",
    "plt.title('Histogram of Model Year')\n",
    "plt.xlabel('Year')\n",
    "plt.ylabel('Frequency')\n",
    "plt.show()"
   ]
  },
  {
   "cell_type": "code",
   "execution_count": 31,
   "id": "8ffacc60",
   "metadata": {},
   "outputs": [
    {
     "data": {
      "image/png": "[encoded data removed]",
      "text/plain": [
       "<Figure size 500x500 with 1 Axes>"
      ]
     },
     "metadata": {},
     "output_type": "display_data"
    }
   ],
   "source": [
    "plt.figure(figsize=(5,5))\n",
    "sns.histplot(x=data['Ownership'],color = 'darkorchid')\n",
    "plt.title('Hist Plot of wheel Base')\n",
    "plt.show()"
   ]
  },
  {
   "cell_type": "code",
   "execution_count": 32,
   "id": "0ba9d354",
   "metadata": {},
   "outputs": [
    {
     "data": {
      "image/png": "[encoded data removed]",
      "text/plain": [
       "<Figure size 500x400 with 1 Axes>"
      ]
     },
     "metadata": {},
     "output_type": "display_data"
    }
   ],
   "source": [
    "plt.figure(figsize=(5,4))\n",
    "sns.barplot(data=data, x='Ownership', y='price', estimator='mean',color = 'mediumturquoise')\n",
    "plt.title('Average Price by Number of Owners')\n",
    "plt.xlabel('Number of Owners')\n",
    "plt.ylabel('Average Price')\n",
    "plt.show()\n"
   ]
  },
  {
   "cell_type": "code",
   "execution_count": 33,
   "id": "ecbb0afc",
   "metadata": {},
   "outputs": [
    {
     "data": {
      "image/png": "[encoded data removed]",
      "text/plain": [
       "<Figure size 1000x400 with 1 Axes>"
      ]
     },
     "metadata": {},
     "output_type": "display_data"
    }
   ],
   "source": [
    "plt.figure(figsize=(10,4))\n",
    "average_price_per_year = data.groupby('modelYear')['price'].mean().reset_index()\n",
    "sns.lineplot(data=average_price_per_year, x='modelYear', y='price',color = 'mediumvioletred')\n",
    "plt.title('Average Price Over Years')\n",
    "plt.xlabel('Year')\n",
    "plt.ylabel('Average Price')\n",
    "plt.xticks(rotation=45)\n",
    "plt.show()\n"
   ]
  },
  {
   "cell_type": "code",
   "execution_count": 34,
   "id": "17417161",
   "metadata": {},
   "outputs": [
    {
     "name": "stdout",
     "output_type": "stream",
     "text": [
      "Numerical Columns: ['km', 'modelYear', 'price', 'Mileage', 'Engine']\n"
     ]
    }
   ],
   "source": [
    "numerical_columns = data.select_dtypes(include=['int64', 'float64']).columns.tolist()\n",
    "print(\"Numerical Columns:\", numerical_columns)"
   ]
  },
  {
   "cell_type": "code",
   "execution_count": 35,
   "id": "993a79c0",
   "metadata": {},
   "outputs": [
    {
     "name": "stdout",
     "output_type": "stream",
     "text": [
      "Categorical Columns: ['body type', 'oem', 'Fuel Type', 'Ownership', 'Transmission', 'Steering Type']\n"
     ]
    }
   ],
   "source": [
    "categorical_columns = data.select_dtypes(include=['object']).columns.tolist()\n",
    "print(\"Categorical Columns:\", categorical_columns)\n"
   ]
  },
  {
   "cell_type": "code",
   "execution_count": 36,
   "id": "a3b3cf13",
   "metadata": {},
   "outputs": [
    {
     "data": {
      "text/plain": [
       "oem\n",
       "Maruti                2251\n",
       "Hyundai               1651\n",
       "Honda                  865\n",
       "Tata                   431\n",
       "Mahindra               377\n",
       "Toyota                 325\n",
       "Renault                312\n",
       "Ford                   311\n",
       "Volkswagen             294\n",
       "Mercedes-Benz          245\n",
       "BMW                    184\n",
       "Skoda                  161\n",
       "Kia                    158\n",
       "Audi                   156\n",
       "Jeep                   112\n",
       "MG                      90\n",
       "Nissan                  78\n",
       "Chevrolet               76\n",
       "Datsun                  74\n",
       "Land Rover              44\n",
       "Volvo                   41\n",
       "Jaguar                  35\n",
       "Fiat                    31\n",
       "Mitsubishi              14\n",
       "Mini                    12\n",
       "Citroen                  8\n",
       "Porsche                  6\n",
       "Isuzu                    5\n",
       "Mahindra Renault         5\n",
       "Lexus                    5\n",
       "Mahindra Ssangyong       4\n",
       "Hindustan Motors         4\n",
       "Opel                     3\n",
       "Name: count, dtype: int64"
      ]
     },
     "execution_count": 36,
     "metadata": {},
     "output_type": "execute_result"
    }
   ],
   "source": [
    "data['oem'].value_counts()"
   ]
  },
  {
   "cell_type": "code",
   "execution_count": 37,
   "id": "171b89ea",
   "metadata": {},
   "outputs": [
    {
     "data": {
      "text/plain": [
       "modelYear\n",
       "2018    980\n",
       "2017    945\n",
       "2016    815\n",
       "2019    789\n",
       "2021    686\n",
       "2020    612\n",
       "2015    605\n",
       "2014    588\n",
       "2022    563\n",
       "2013    400\n",
       "2012    338\n",
       "2011    272\n",
       "2010    254\n",
       "2009    144\n",
       "2023    104\n",
       "2008     85\n",
       "2007     56\n",
       "2006     44\n",
       "2004     25\n",
       "2005     20\n",
       "2003     13\n",
       "2002     10\n",
       "2001      9\n",
       "1998      3\n",
       "1999      2\n",
       "1995      2\n",
       "1985      2\n",
       "2000      1\n",
       "1997      1\n",
       "Name: count, dtype: int64"
      ]
     },
     "execution_count": 37,
     "metadata": {},
     "output_type": "execute_result"
    }
   ],
   "source": [
    "data['modelYear'].value_counts()"
   ]
  },
  {
   "cell_type": "code",
   "execution_count": 38,
   "id": "c5b80f2d",
   "metadata": {},
   "outputs": [
    {
     "data": {
      "text/plain": [
       "Fuel Type\n",
       "Petrol      5553\n",
       "Diesel      2673\n",
       "CNG           98\n",
       "Electric      28\n",
       "LPG           16\n",
       "Name: count, dtype: int64"
      ]
     },
     "execution_count": 38,
     "metadata": {},
     "output_type": "execute_result"
    }
   ],
   "source": [
    "data['Fuel Type'].value_counts()"
   ]
  },
  {
   "cell_type": "code",
   "execution_count": 39,
   "id": "cbfe2260",
   "metadata": {},
   "outputs": [
    {
     "data": {
      "text/plain": [
       "Ownership\n",
       "First     5913\n",
       "Second    1982\n",
       "Third      374\n",
       "Fourth      80\n",
       "Fifth       19\n",
       "Name: count, dtype: int64"
      ]
     },
     "execution_count": 39,
     "metadata": {},
     "output_type": "execute_result"
    }
   ],
   "source": [
    "data['Ownership'].value_counts()"
   ]
  },
  {
   "cell_type": "code",
   "execution_count": 40,
   "id": "19f4b839",
   "metadata": {},
   "outputs": [
    {
     "data": {
      "text/plain": [
       "body type\n",
       "Hatchback        3570\n",
       "SUV              2225\n",
       "Sedan            2174\n",
       "MUV               352\n",
       "Minivans           23\n",
       "Coupe              10\n",
       "Pickup Trucks       6\n",
       "Convertibles        6\n",
       "Hybrids             1\n",
       "Wagon               1\n",
       "Name: count, dtype: int64"
      ]
     },
     "execution_count": 40,
     "metadata": {},
     "output_type": "execute_result"
    }
   ],
   "source": [
    "data['body type'].value_counts()"
   ]
  },
  {
   "cell_type": "code",
   "execution_count": 41,
   "id": "b6e81019",
   "metadata": {},
   "outputs": [
    {
     "data": {
      "text/plain": [
       "Transmission\n",
       "Manual       6051\n",
       "Automatic    2317\n",
       "Name: count, dtype: int64"
      ]
     },
     "execution_count": 41,
     "metadata": {},
     "output_type": "execute_result"
    }
   ],
   "source": [
    "data['Transmission'].value_counts()"
   ]
  },
  {
   "cell_type": "code",
   "execution_count": 42,
   "id": "c725cddc",
   "metadata": {},
   "outputs": [
    {
     "data": {
      "text/plain": [
       "Steering Type\n",
       "Power         6649\n",
       "Electric      1438\n",
       "Electronic     106\n",
       "Manual          86\n",
       "Electrical      48\n",
       "power           29\n",
       "EPAS             9\n",
       "Hydraulic        2\n",
       "electric         1\n",
       "Name: count, dtype: int64"
      ]
     },
     "execution_count": 42,
     "metadata": {},
     "output_type": "execute_result"
    }
   ],
   "source": [
    "data['Steering Type'].value_counts()"
   ]
  },
  {
   "cell_type": "markdown",
   "id": "0884aeba",
   "metadata": {},
   "source": [
    "TO REPLACE THE LEAST USED CAR MODEL AS OTHERS"
   ]
  },
  {
   "cell_type": "code",
   "execution_count": 43,
   "id": "8573b02d",
   "metadata": {},
   "outputs": [],
   "source": [
    "top_oems = data['oem'].value_counts().nlargest(5).index\n",
    "data['oem'] = data['oem'].apply(lambda x: x if x in top_oems else 'Other')"
   ]
  },
  {
   "cell_type": "code",
   "execution_count": 44,
   "id": "12bf3c9b",
   "metadata": {},
   "outputs": [
    {
     "data": {
      "text/plain": [
       "oem\n",
       "Other       2793\n",
       "Maruti      2251\n",
       "Hyundai     1651\n",
       "Honda        865\n",
       "Tata         431\n",
       "Mahindra     377\n",
       "Name: count, dtype: int64"
      ]
     },
     "execution_count": 44,
     "metadata": {},
     "output_type": "execute_result"
    }
   ],
   "source": [
    "data['oem'].value_counts()"
   ]
  },
  {
   "cell_type": "code",
   "execution_count": 45,
   "id": "064595fe",
   "metadata": {},
   "outputs": [],
   "source": [
    "top_bodytype = data['body type'].value_counts().nlargest(5).index\n",
    "data['body type'] = data['body type'].apply(lambda x:x if x in top_bodytype else 'Other')"
   ]
  },
  {
   "cell_type": "code",
   "execution_count": 46,
   "id": "aa1ffd3b",
   "metadata": {},
   "outputs": [
    {
     "data": {
      "text/plain": [
       "body type\n",
       "Hatchback    3570\n",
       "SUV          2225\n",
       "Sedan        2174\n",
       "MUV           352\n",
       "Other          24\n",
       "Minivans       23\n",
       "Name: count, dtype: int64"
      ]
     },
     "execution_count": 46,
     "metadata": {},
     "output_type": "execute_result"
    }
   ],
   "source": [
    "data['body type'].value_counts()"
   ]
  },
  {
   "cell_type": "code",
   "execution_count": 47,
   "id": "ac21e4d9",
   "metadata": {},
   "outputs": [],
   "source": [
    "top_steeringtype = data['Steering Type'].value_counts().nlargest(5).index\n",
    "data['Steering Type'] = data['Steering Type'].apply(lambda x:x if x in top_steeringtype else 'Other')"
   ]
  },
  {
   "cell_type": "code",
   "execution_count": 48,
   "id": "afc4d941",
   "metadata": {},
   "outputs": [
    {
     "data": {
      "text/plain": [
       "Steering Type\n",
       "Power         6649\n",
       "Electric      1438\n",
       "Electronic     106\n",
       "Manual          86\n",
       "Electrical      48\n",
       "Other           41\n",
       "Name: count, dtype: int64"
      ]
     },
     "execution_count": 48,
     "metadata": {},
     "output_type": "execute_result"
    }
   ],
   "source": [
    "data['Steering Type'].value_counts()"
   ]
  },
  {
   "cell_type": "code",
   "execution_count": 49,
   "id": "2b0a1b4b",
   "metadata": {},
   "outputs": [
    {
     "name": "stdout",
     "output_type": "stream",
     "text": [
      "<class 'pandas.core.frame.DataFrame'>\n",
      "RangeIndex: 8368 entries, 0 to 8367\n",
      "Data columns (total 11 columns):\n",
      " #   Column         Non-Null Count  Dtype  \n",
      "---  ------         --------------  -----  \n",
      " 0   body type      8368 non-null   object \n",
      " 1   km             8368 non-null   int64  \n",
      " 2   oem            8368 non-null   object \n",
      " 3   modelYear      8368 non-null   int64  \n",
      " 4   price          8368 non-null   float64\n",
      " 5   Fuel Type      8368 non-null   object \n",
      " 6   Ownership      8368 non-null   object \n",
      " 7   Transmission   8368 non-null   object \n",
      " 8   Mileage        8368 non-null   float64\n",
      " 9   Engine         8368 non-null   int64  \n",
      " 10  Steering Type  8368 non-null   object \n",
      "dtypes: float64(2), int64(3), object(6)\n",
      "memory usage: 719.3+ KB\n"
     ]
    }
   ],
   "source": [
    "data.info()"
   ]
  },
  {
   "cell_type": "code",
   "execution_count": 50,
   "id": "01d71b4f",
   "metadata": {},
   "outputs": [
    {
     "name": "stdout",
     "output_type": "stream",
     "text": [
      "Numerical Columns: ['km', 'modelYear', 'price', 'Mileage', 'Engine']\n"
     ]
    }
   ],
   "source": [
    "numerical_cols = data.select_dtypes(include=['int64', 'float64']).columns.tolist()\n",
    "print(\"Numerical Columns:\", numerical_cols)"
   ]
  },
  {
   "cell_type": "code",
   "execution_count": 51,
   "id": "54351b7d",
   "metadata": {},
   "outputs": [
    {
     "name": "stdout",
     "output_type": "stream",
     "text": [
      "Categorical Columns: ['body type', 'oem', 'Fuel Type', 'Ownership', 'Transmission', 'Steering Type']\n"
     ]
    }
   ],
   "source": [
    "categorical_cols = data.select_dtypes(include=['object']).columns.tolist()\n",
    "print(\"Categorical Columns:\", categorical_cols)"
   ]
  },
  {
   "cell_type": "code",
   "execution_count": 52,
   "id": "a1fa7526",
   "metadata": {},
   "outputs": [],
   "source": [
    "data.to_csv('/Users/jainivedhitha/Desktop/mp_3_data.csv')"
   ]
  },
  {
   "cell_type": "markdown",
   "id": "07b312ac",
   "metadata": {},
   "source": [
    "# LABEL ENCODER"
   ]
  },
  {
   "cell_type": "code",
   "execution_count": 53,
   "id": "ff0d4d55",
   "metadata": {},
   "outputs": [],
   "source": [
    "from sklearn.preprocessing import LabelEncoder\n",
    "import joblib"
   ]
  },
  {
   "cell_type": "code",
   "execution_count": 54,
   "id": "3cacb82e",
   "metadata": {},
   "outputs": [],
   "source": [
    "encoders = {}"
   ]
  },
  {
   "cell_type": "code",
   "execution_count": 55,
   "id": "42ee646f",
   "metadata": {},
   "outputs": [
    {
     "data": {
      "text/html": [
       "<div>\n",
       "<style scoped>\n",
       "    .dataframe tbody tr th:only-of-type {\n",
       "        vertical-align: middle;\n",
       "    }\n",
       "\n",
       "    .dataframe tbody tr th {\n",
       "        vertical-align: top;\n",
       "    }\n",
       "\n",
       "    .dataframe thead th {\n",
       "        text-align: right;\n",
       "    }\n",
       "</style>\n",
       "<table border=\"1\" class=\"dataframe\">\n",
       "  <thead>\n",
       "    <tr style=\"text-align: right;\">\n",
       "      <th></th>\n",
       "      <th>body type</th>\n",
       "      <th>km</th>\n",
       "      <th>oem</th>\n",
       "      <th>modelYear</th>\n",
       "      <th>price</th>\n",
       "      <th>Fuel Type</th>\n",
       "      <th>Ownership</th>\n",
       "      <th>Transmission</th>\n",
       "      <th>Mileage</th>\n",
       "      <th>Engine</th>\n",
       "      <th>Steering Type</th>\n",
       "    </tr>\n",
       "  </thead>\n",
       "  <tbody>\n",
       "    <tr>\n",
       "      <th>0</th>\n",
       "      <td>0</td>\n",
       "      <td>120000</td>\n",
       "      <td>1</td>\n",
       "      <td>2015</td>\n",
       "      <td>5.1</td>\n",
       "      <td>1</td>\n",
       "      <td>3</td>\n",
       "      <td>1</td>\n",
       "      <td>22.54</td>\n",
       "      <td>1396</td>\n",
       "      <td>5</td>\n",
       "    </tr>\n",
       "    <tr>\n",
       "      <th>1</th>\n",
       "      <td>0</td>\n",
       "      <td>80000</td>\n",
       "      <td>3</td>\n",
       "      <td>2016</td>\n",
       "      <td>3.2</td>\n",
       "      <td>4</td>\n",
       "      <td>3</td>\n",
       "      <td>0</td>\n",
       "      <td>23.10</td>\n",
       "      <td>998</td>\n",
       "      <td>5</td>\n",
       "    </tr>\n",
       "    <tr>\n",
       "      <th>2</th>\n",
       "      <td>0</td>\n",
       "      <td>44392</td>\n",
       "      <td>1</td>\n",
       "      <td>2017</td>\n",
       "      <td>4.2</td>\n",
       "      <td>4</td>\n",
       "      <td>1</td>\n",
       "      <td>1</td>\n",
       "      <td>18.90</td>\n",
       "      <td>1197</td>\n",
       "      <td>5</td>\n",
       "    </tr>\n",
       "    <tr>\n",
       "      <th>3</th>\n",
       "      <td>0</td>\n",
       "      <td>40000</td>\n",
       "      <td>3</td>\n",
       "      <td>2016</td>\n",
       "      <td>3.5</td>\n",
       "      <td>4</td>\n",
       "      <td>1</td>\n",
       "      <td>0</td>\n",
       "      <td>20.51</td>\n",
       "      <td>998</td>\n",
       "      <td>5</td>\n",
       "    </tr>\n",
       "    <tr>\n",
       "      <th>4</th>\n",
       "      <td>5</td>\n",
       "      <td>150000</td>\n",
       "      <td>1</td>\n",
       "      <td>2007</td>\n",
       "      <td>1.5</td>\n",
       "      <td>1</td>\n",
       "      <td>3</td>\n",
       "      <td>1</td>\n",
       "      <td>16.80</td>\n",
       "      <td>1493</td>\n",
       "      <td>5</td>\n",
       "    </tr>\n",
       "  </tbody>\n",
       "</table>\n",
       "</div>"
      ],
      "text/plain": [
       "   body type      km  oem  modelYear  price  Fuel Type  Ownership  \\\n",
       "0          0  120000    1       2015    5.1          1          3   \n",
       "1          0   80000    3       2016    3.2          4          3   \n",
       "2          0   44392    1       2017    4.2          4          1   \n",
       "3          0   40000    3       2016    3.5          4          1   \n",
       "4          5  150000    1       2007    1.5          1          3   \n",
       "\n",
       "   Transmission  Mileage  Engine  Steering Type  \n",
       "0             1    22.54    1396              5  \n",
       "1             0    23.10     998              5  \n",
       "2             1    18.90    1197              5  \n",
       "3             0    20.51     998              5  \n",
       "4             1    16.80    1493              5  "
      ]
     },
     "execution_count": 55,
     "metadata": {},
     "output_type": "execute_result"
    }
   ],
   "source": [
    "for col in categorical_cols:\n",
    "    label_encoder = LabelEncoder()\n",
    "    data[col] = label_encoder.fit_transform(data[col])\n",
    "    encoders[col] = label_encoder\n",
    "\n",
    "data.head()"
   ]
  },
  {
   "cell_type": "code",
   "execution_count": 56,
   "id": "603b28e7",
   "metadata": {},
   "outputs": [
    {
     "data": {
      "text/plain": [
       "['/Users/jainivedhitha/Desktop/label_encoder.pkl']"
      ]
     },
     "execution_count": 56,
     "metadata": {},
     "output_type": "execute_result"
    }
   ],
   "source": [
    "joblib.dump(encoders, '/Users/jainivedhitha/Desktop/label_encoder.pkl')"
   ]
  },
  {
   "cell_type": "markdown",
   "id": "88d11ea4",
   "metadata": {},
   "source": [
    "# CORRELATION HEATMAP"
   ]
  },
  {
   "cell_type": "code",
   "execution_count": 57,
   "id": "9e361519",
   "metadata": {},
   "outputs": [
    {
     "data": {
      "image/png": "[encoded data removed]",
      "text/plain": [
       "<Figure size 800x600 with 2 Axes>"
      ]
     },
     "metadata": {},
     "output_type": "display_data"
    }
   ],
   "source": [
    "numerical_data = data.select_dtypes(include=['float64', 'int64'])\n",
    "correlation_matrix = numerical_data.corr()\n",
    "plt.figure(figsize=(8,6))\n",
    "sns.heatmap(correlation_matrix, annot=True, cmap='Spectral')\n",
    "plt.title('Correlation Heatmap')\n",
    "plt.show()\n"
   ]
  },
  {
   "cell_type": "markdown",
   "id": "d0ea6764",
   "metadata": {},
   "source": [
    "REMOVAL OF OUTLIERS"
   ]
  },
  {
   "cell_type": "code",
   "execution_count": 58,
   "id": "ac4438b1",
   "metadata": {},
   "outputs": [],
   "source": [
    "def remove_outliers_iqr(df, column):\n",
    "    Q1 = df[column].quantile(0.25) \n",
    "    Q3 = df[column].quantile(0.75)\n",
    "    IQR = Q3 - Q1 \n",
    "    lower_bound = Q1 - 1.5 * IQR\n",
    "    upper_bound = Q3 + 1.5 * IQR \n",
    "    return df[(df[column] >= lower_bound) & (df[column] <= upper_bound)]\n",
    "for column in numerical_columns:\n",
    "    data = remove_outliers_iqr(data, column)"
   ]
  },
  {
   "cell_type": "markdown",
   "id": "b187dd37",
   "metadata": {},
   "source": [
    "# SCALING OF DATA"
   ]
  },
  {
   "cell_type": "code",
   "execution_count": 59,
   "id": "c8f691da",
   "metadata": {},
   "outputs": [],
   "source": [
    "x = data.drop('price',axis =1)\n",
    "y = data['price']"
   ]
  },
  {
   "cell_type": "code",
   "execution_count": 60,
   "id": "4246fba1",
   "metadata": {},
   "outputs": [
    {
     "data": {
      "text/html": [
       "<style>#sk-container-id-1 {color: black;}#sk-container-id-1 pre{padding: 0;}#sk-container-id-1 div.sk-toggleable {background-color: white;}#sk-container-id-1 label.sk-toggleable__label {cursor: pointer;display: block;width: 100%;margin-bottom: 0;padding: 0.3em;box-sizing: border-box;text-align: center;}#sk-container-id-1 label.sk-toggleable__label-arrow:before {content: \"▸\";float: left;margin-right: 0.25em;color: #696969;}#sk-container-id-1 label.sk-toggleable__label-arrow:hover:before {color: black;}#sk-container-id-1 div.sk-estimator:hover label.sk-toggleable__label-arrow:before {color: black;}#sk-container-id-1 div.sk-toggleable__content {max-height: 0;max-width: 0;overflow: hidden;text-align: left;background-color: #f0f8ff;}#sk-container-id-1 div.sk-toggleable__content pre {margin: 0.2em;color: black;border-radius: 0.25em;background-color: #f0f8ff;}#sk-container-id-1 input.sk-toggleable__control:checked~div.sk-toggleable__content {max-height: 200px;max-width: 100%;overflow: auto;}#sk-container-id-1 input.sk-toggleable__control:checked~label.sk-toggleable__label-arrow:before {content: \"▾\";}#sk-container-id-1 div.sk-estimator input.sk-toggleable__control:checked~label.sk-toggleable__label {background-color: #d4ebff;}#sk-container-id-1 div.sk-label input.sk-toggleable__control:checked~label.sk-toggleable__label {background-color: #d4ebff;}#sk-container-id-1 input.sk-hidden--visually {border: 0;clip: rect(1px 1px 1px 1px);clip: rect(1px, 1px, 1px, 1px);height: 1px;margin: -1px;overflow: hidden;padding: 0;position: absolute;width: 1px;}#sk-container-id-1 div.sk-estimator {font-family: monospace;background-color: #f0f8ff;border: 1px dotted black;border-radius: 0.25em;box-sizing: border-box;margin-bottom: 0.5em;}#sk-container-id-1 div.sk-estimator:hover {background-color: #d4ebff;}#sk-container-id-1 div.sk-parallel-item::after {content: \"\";width: 100%;border-bottom: 1px solid gray;flex-grow: 1;}#sk-container-id-1 div.sk-label:hover label.sk-toggleable__label {background-color: #d4ebff;}#sk-container-id-1 div.sk-serial::before {content: \"\";position: absolute;border-left: 1px solid gray;box-sizing: border-box;top: 0;bottom: 0;left: 50%;z-index: 0;}#sk-container-id-1 div.sk-serial {display: flex;flex-direction: column;align-items: center;background-color: white;padding-right: 0.2em;padding-left: 0.2em;position: relative;}#sk-container-id-1 div.sk-item {position: relative;z-index: 1;}#sk-container-id-1 div.sk-parallel {display: flex;align-items: stretch;justify-content: center;background-color: white;position: relative;}#sk-container-id-1 div.sk-item::before, #sk-container-id-1 div.sk-parallel-item::before {content: \"\";position: absolute;border-left: 1px solid gray;box-sizing: border-box;top: 0;bottom: 0;left: 50%;z-index: -1;}#sk-container-id-1 div.sk-parallel-item {display: flex;flex-direction: column;z-index: 1;position: relative;background-color: white;}#sk-container-id-1 div.sk-parallel-item:first-child::after {align-self: flex-end;width: 50%;}#sk-container-id-1 div.sk-parallel-item:last-child::after {align-self: flex-start;width: 50%;}#sk-container-id-1 div.sk-parallel-item:only-child::after {width: 0;}#sk-container-id-1 div.sk-dashed-wrapped {border: 1px dashed gray;margin: 0 0.4em 0.5em 0.4em;box-sizing: border-box;padding-bottom: 0.4em;background-color: white;}#sk-container-id-1 div.sk-label label {font-family: monospace;font-weight: bold;display: inline-block;line-height: 1.2em;}#sk-container-id-1 div.sk-label-container {text-align: center;}#sk-container-id-1 div.sk-container {/* jupyter's `normalize.less` sets `[hidden] { display: none; }` but bootstrap.min.css set `[hidden] { display: none !important; }` so we also need the `!important` here to be able to override the default hidden behavior on the sphinx rendered scikit-learn.org. See: https://github.com/scikit-learn/scikit-learn/issues/21755 */display: inline-block !important;position: relative;}#sk-container-id-1 div.sk-text-repr-fallback {display: none;}</style><div id=\"sk-container-id-1\" class=\"sk-top-container\"><div class=\"sk-text-repr-fallback\"><pre>MinMaxScaler()</pre><b>In a Jupyter environment, please rerun this cell to show the HTML representation or trust the notebook. <br />On GitHub, the HTML representation is unable to render, please try loading this page with nbviewer.org.</b></div><div class=\"sk-container\" hidden><div class=\"sk-item\"><div class=\"sk-estimator sk-toggleable\"><input class=\"sk-toggleable__control sk-hidden--visually\" id=\"sk-estimator-id-1\" type=\"checkbox\" checked><label for=\"sk-estimator-id-1\" class=\"sk-toggleable__label sk-toggleable__label-arrow\">MinMaxScaler</label><div class=\"sk-toggleable__content\"><pre>MinMaxScaler()</pre></div></div></div></div></div>"
      ],
      "text/plain": [
       "MinMaxScaler()"
      ]
     },
     "execution_count": 60,
     "metadata": {},
     "output_type": "execute_result"
    }
   ],
   "source": [
    "from sklearn.preprocessing import MinMaxScaler\n",
    "scaler = MinMaxScaler()\n",
    "scaler.fit(x)"
   ]
  },
  {
   "cell_type": "code",
   "execution_count": 61,
   "id": "31004744",
   "metadata": {},
   "outputs": [
    {
     "data": {
      "text/plain": [
       "['/Users/jainivedhitha/Desktop/minmax_scaler.pkl']"
      ]
     },
     "execution_count": 61,
     "metadata": {},
     "output_type": "execute_result"
    }
   ],
   "source": [
    "import joblib\n",
    "\n",
    "joblib.dump(scaler, '/Users/jainivedhitha/Desktop/minmax_scaler.pkl')\n"
   ]
  },
  {
   "cell_type": "markdown",
   "id": "0df7ff70",
   "metadata": {},
   "source": [
    "# TRAIN TEST SPLIT"
   ]
  },
  {
   "cell_type": "code",
   "execution_count": 62,
   "id": "b6b9e1b6",
   "metadata": {},
   "outputs": [],
   "source": [
    "from sklearn.model_selection import train_test_split\n",
    "from sklearn.model_selection import cross_val_score\n",
    "from sklearn.metrics import mean_squared_error\n",
    "from sklearn.model_selection import GridSearchCV"
   ]
  },
  {
   "cell_type": "code",
   "execution_count": 63,
   "id": "5696bf70",
   "metadata": {},
   "outputs": [],
   "source": [
    "x_train,x_test,y_train,y_test = train_test_split(x,y,test_size = 0.2,random_state = 42)"
   ]
  },
  {
   "cell_type": "markdown",
   "id": "81b1628c",
   "metadata": {},
   "source": [
    "# LINEAR REGRESSION"
   ]
  },
  {
   "cell_type": "code",
   "execution_count": 64,
   "id": "e07fc25c",
   "metadata": {},
   "outputs": [],
   "source": [
    "from sklearn.linear_model import LinearRegression"
   ]
  },
  {
   "cell_type": "code",
   "execution_count": 65,
   "id": "55eb398e",
   "metadata": {},
   "outputs": [
    {
     "name": "stdout",
     "output_type": "stream",
     "text": [
      "Linear Regression MSE: 2.8704591005278295\n",
      "Cross-Validation MSE: 3.23713311429949\n"
     ]
    }
   ],
   "source": [
    "linear_model = LinearRegression()\n",
    "\n",
    "cv_scores = cross_val_score(linear_model, x_train, y_train, cv=5, scoring='neg_mean_squared_error')\n",
    "\n",
    "linear_model.fit(x_train, y_train)\n",
    "\n",
    "y_pred = linear_model.predict(x_test)\n",
    "mse = mean_squared_error(y_test, y_pred)\n",
    "print(f\"Linear Regression MSE: {mse}\")\n",
    "print(f\"Cross-Validation MSE: {-cv_scores.mean()}\")"
   ]
  },
  {
   "cell_type": "markdown",
   "id": "4f4c8710",
   "metadata": {},
   "source": [
    "# DECISION TREE REGRESSOR"
   ]
  },
  {
   "cell_type": "code",
   "execution_count": 66,
   "id": "247033e4",
   "metadata": {},
   "outputs": [],
   "source": [
    "from sklearn.tree import DecisionTreeRegressor"
   ]
  },
  {
   "cell_type": "code",
   "execution_count": 67,
   "id": "5eefd75a",
   "metadata": {},
   "outputs": [],
   "source": [
    "tree_model = DecisionTreeRegressor(random_state=42)"
   ]
  },
  {
   "cell_type": "code",
   "execution_count": 68,
   "id": "b6acd1cc",
   "metadata": {},
   "outputs": [],
   "source": [
    "param_grid = {\n",
    "    'max_depth': [None, 10, 20, 30],\n",
    "    'min_samples_split': [2, 10, 20],\n",
    "    'min_samples_leaf': [1, 5, 10]\n",
    "}"
   ]
  },
  {
   "cell_type": "code",
   "execution_count": 69,
   "id": "ac5309ae",
   "metadata": {},
   "outputs": [
    {
     "data": {
      "text/html": [
       "<style>#sk-container-id-2 {color: black;}#sk-container-id-2 pre{padding: 0;}#sk-container-id-2 div.sk-toggleable {background-color: white;}#sk-container-id-2 label.sk-toggleable__label {cursor: pointer;display: block;width: 100%;margin-bottom: 0;padding: 0.3em;box-sizing: border-box;text-align: center;}#sk-container-id-2 label.sk-toggleable__label-arrow:before {content: \"▸\";float: left;margin-right: 0.25em;color: #696969;}#sk-container-id-2 label.sk-toggleable__label-arrow:hover:before {color: black;}#sk-container-id-2 div.sk-estimator:hover label.sk-toggleable__label-arrow:before {color: black;}#sk-container-id-2 div.sk-toggleable__content {max-height: 0;max-width: 0;overflow: hidden;text-align: left;background-color: #f0f8ff;}#sk-container-id-2 div.sk-toggleable__content pre {margin: 0.2em;color: black;border-radius: 0.25em;background-color: #f0f8ff;}#sk-container-id-2 input.sk-toggleable__control:checked~div.sk-toggleable__content {max-height: 200px;max-width: 100%;overflow: auto;}#sk-container-id-2 input.sk-toggleable__control:checked~label.sk-toggleable__label-arrow:before {content: \"▾\";}#sk-container-id-2 div.sk-estimator input.sk-toggleable__control:checked~label.sk-toggleable__label {background-color: #d4ebff;}#sk-container-id-2 div.sk-label input.sk-toggleable__control:checked~label.sk-toggleable__label {background-color: #d4ebff;}#sk-container-id-2 input.sk-hidden--visually {border: 0;clip: rect(1px 1px 1px 1px);clip: rect(1px, 1px, 1px, 1px);height: 1px;margin: -1px;overflow: hidden;padding: 0;position: absolute;width: 1px;}#sk-container-id-2 div.sk-estimator {font-family: monospace;background-color: #f0f8ff;border: 1px dotted black;border-radius: 0.25em;box-sizing: border-box;margin-bottom: 0.5em;}#sk-container-id-2 div.sk-estimator:hover {background-color: #d4ebff;}#sk-container-id-2 div.sk-parallel-item::after {content: \"\";width: 100%;border-bottom: 1px solid gray;flex-grow: 1;}#sk-container-id-2 div.sk-label:hover label.sk-toggleable__label {background-color: #d4ebff;}#sk-container-id-2 div.sk-serial::before {content: \"\";position: absolute;border-left: 1px solid gray;box-sizing: border-box;top: 0;bottom: 0;left: 50%;z-index: 0;}#sk-container-id-2 div.sk-serial {display: flex;flex-direction: column;align-items: center;background-color: white;padding-right: 0.2em;padding-left: 0.2em;position: relative;}#sk-container-id-2 div.sk-item {position: relative;z-index: 1;}#sk-container-id-2 div.sk-parallel {display: flex;align-items: stretch;justify-content: center;background-color: white;position: relative;}#sk-container-id-2 div.sk-item::before, #sk-container-id-2 div.sk-parallel-item::before {content: \"\";position: absolute;border-left: 1px solid gray;box-sizing: border-box;top: 0;bottom: 0;left: 50%;z-index: -1;}#sk-container-id-2 div.sk-parallel-item {display: flex;flex-direction: column;z-index: 1;position: relative;background-color: white;}#sk-container-id-2 div.sk-parallel-item:first-child::after {align-self: flex-end;width: 50%;}#sk-container-id-2 div.sk-parallel-item:last-child::after {align-self: flex-start;width: 50%;}#sk-container-id-2 div.sk-parallel-item:only-child::after {width: 0;}#sk-container-id-2 div.sk-dashed-wrapped {border: 1px dashed gray;margin: 0 0.4em 0.5em 0.4em;box-sizing: border-box;padding-bottom: 0.4em;background-color: white;}#sk-container-id-2 div.sk-label label {font-family: monospace;font-weight: bold;display: inline-block;line-height: 1.2em;}#sk-container-id-2 div.sk-label-container {text-align: center;}#sk-container-id-2 div.sk-container {/* jupyter's `normalize.less` sets `[hidden] { display: none; }` but bootstrap.min.css set `[hidden] { display: none !important; }` so we also need the `!important` here to be able to override the default hidden behavior on the sphinx rendered scikit-learn.org. See: https://github.com/scikit-learn/scikit-learn/issues/21755 */display: inline-block !important;position: relative;}#sk-container-id-2 div.sk-text-repr-fallback {display: none;}</style><div id=\"sk-container-id-2\" class=\"sk-top-container\"><div class=\"sk-text-repr-fallback\"><pre>GridSearchCV(cv=5, estimator=DecisionTreeRegressor(random_state=42),\n",
       "             param_grid={&#x27;max_depth&#x27;: [None, 10, 20, 30],\n",
       "                         &#x27;min_samples_leaf&#x27;: [1, 5, 10],\n",
       "                         &#x27;min_samples_split&#x27;: [2, 10, 20]},\n",
       "             scoring=&#x27;neg_mean_squared_error&#x27;)</pre><b>In a Jupyter environment, please rerun this cell to show the HTML representation or trust the notebook. <br />On GitHub, the HTML representation is unable to render, please try loading this page with nbviewer.org.</b></div><div class=\"sk-container\" hidden><div class=\"sk-item sk-dashed-wrapped\"><div class=\"sk-label-container\"><div class=\"sk-label sk-toggleable\"><input class=\"sk-toggleable__control sk-hidden--visually\" id=\"sk-estimator-id-2\" type=\"checkbox\" ><label for=\"sk-estimator-id-2\" class=\"sk-toggleable__label sk-toggleable__label-arrow\">GridSearchCV</label><div class=\"sk-toggleable__content\"><pre>GridSearchCV(cv=5, estimator=DecisionTreeRegressor(random_state=42),\n",
       "             param_grid={&#x27;max_depth&#x27;: [None, 10, 20, 30],\n",
       "                         &#x27;min_samples_leaf&#x27;: [1, 5, 10],\n",
       "                         &#x27;min_samples_split&#x27;: [2, 10, 20]},\n",
       "             scoring=&#x27;neg_mean_squared_error&#x27;)</pre></div></div></div><div class=\"sk-parallel\"><div class=\"sk-parallel-item\"><div class=\"sk-item\"><div class=\"sk-label-container\"><div class=\"sk-label sk-toggleable\"><input class=\"sk-toggleable__control sk-hidden--visually\" id=\"sk-estimator-id-3\" type=\"checkbox\" ><label for=\"sk-estimator-id-3\" class=\"sk-toggleable__label sk-toggleable__label-arrow\">estimator: DecisionTreeRegressor</label><div class=\"sk-toggleable__content\"><pre>DecisionTreeRegressor(random_state=42)</pre></div></div></div><div class=\"sk-serial\"><div class=\"sk-item\"><div class=\"sk-estimator sk-toggleable\"><input class=\"sk-toggleable__control sk-hidden--visually\" id=\"sk-estimator-id-4\" type=\"checkbox\" ><label for=\"sk-estimator-id-4\" class=\"sk-toggleable__label sk-toggleable__label-arrow\">DecisionTreeRegressor</label><div class=\"sk-toggleable__content\"><pre>DecisionTreeRegressor(random_state=42)</pre></div></div></div></div></div></div></div></div></div></div>"
      ],
      "text/plain": [
       "GridSearchCV(cv=5, estimator=DecisionTreeRegressor(random_state=42),\n",
       "             param_grid={'max_depth': [None, 10, 20, 30],\n",
       "                         'min_samples_leaf': [1, 5, 10],\n",
       "                         'min_samples_split': [2, 10, 20]},\n",
       "             scoring='neg_mean_squared_error')"
      ]
     },
     "execution_count": 69,
     "metadata": {},
     "output_type": "execute_result"
    }
   ],
   "source": [
    "grid_search_tree = GridSearchCV(tree_model, param_grid, cv=5, scoring='neg_mean_squared_error')\n",
    "grid_search_tree.fit(x_train, y_train)"
   ]
  },
  {
   "cell_type": "code",
   "execution_count": 70,
   "id": "a0372f2e",
   "metadata": {},
   "outputs": [],
   "source": [
    "best_tree_model = grid_search_tree.best_estimator_"
   ]
  },
  {
   "cell_type": "code",
   "execution_count": 71,
   "id": "b3549805",
   "metadata": {},
   "outputs": [
    {
     "name": "stdout",
     "output_type": "stream",
     "text": [
      "Decision Tree MSE: 1.551047298794117\n",
      "Best Parameters: {'max_depth': 10, 'min_samples_leaf': 1, 'min_samples_split': 10}\n"
     ]
    }
   ],
   "source": [
    "y_pred_tree = best_tree_model.predict(x_test)\n",
    "mse_tree = mean_squared_error(y_test, y_pred_tree)\n",
    "print(f\"Decision Tree MSE: {mse_tree}\")\n",
    "print(f\"Best Parameters: {grid_search_tree.best_params_}\")"
   ]
  },
  {
   "cell_type": "markdown",
   "id": "7f49ebe6",
   "metadata": {},
   "source": [
    "# GRADIENT BOOSTING REGRESSOR"
   ]
  },
  {
   "cell_type": "code",
   "execution_count": 72,
   "id": "4dad030b",
   "metadata": {},
   "outputs": [],
   "source": [
    "from sklearn.ensemble import GradientBoostingRegressor"
   ]
  },
  {
   "cell_type": "code",
   "execution_count": 73,
   "id": "17b8c256",
   "metadata": {},
   "outputs": [],
   "source": [
    "gbr_model = GradientBoostingRegressor(random_state=42)"
   ]
  },
  {
   "cell_type": "code",
   "execution_count": 74,
   "id": "71adadc1",
   "metadata": {},
   "outputs": [],
   "source": [
    "param_grid_gbr = {\n",
    "    'n_estimators': [100, 200, 300],\n",
    "    'learning_rate': [0.01, 0.1, 0.2],\n",
    "    'max_depth': [3, 5, 10],\n",
    "    'subsample': [0.8, 1.0]\n",
    "}"
   ]
  },
  {
   "cell_type": "code",
   "execution_count": 75,
   "id": "640a6612",
   "metadata": {},
   "outputs": [
    {
     "data": {
      "text/html": [
       "<style>#sk-container-id-3 {color: black;}#sk-container-id-3 pre{padding: 0;}#sk-container-id-3 div.sk-toggleable {background-color: white;}#sk-container-id-3 label.sk-toggleable__label {cursor: pointer;display: block;width: 100%;margin-bottom: 0;padding: 0.3em;box-sizing: border-box;text-align: center;}#sk-container-id-3 label.sk-toggleable__label-arrow:before {content: \"▸\";float: left;margin-right: 0.25em;color: #696969;}#sk-container-id-3 label.sk-toggleable__label-arrow:hover:before {color: black;}#sk-container-id-3 div.sk-estimator:hover label.sk-toggleable__label-arrow:before {color: black;}#sk-container-id-3 div.sk-toggleable__content {max-height: 0;max-width: 0;overflow: hidden;text-align: left;background-color: #f0f8ff;}#sk-container-id-3 div.sk-toggleable__content pre {margin: 0.2em;color: black;border-radius: 0.25em;background-color: #f0f8ff;}#sk-container-id-3 input.sk-toggleable__control:checked~div.sk-toggleable__content {max-height: 200px;max-width: 100%;overflow: auto;}#sk-container-id-3 input.sk-toggleable__control:checked~label.sk-toggleable__label-arrow:before {content: \"▾\";}#sk-container-id-3 div.sk-estimator input.sk-toggleable__control:checked~label.sk-toggleable__label {background-color: #d4ebff;}#sk-container-id-3 div.sk-label input.sk-toggleable__control:checked~label.sk-toggleable__label {background-color: #d4ebff;}#sk-container-id-3 input.sk-hidden--visually {border: 0;clip: rect(1px 1px 1px 1px);clip: rect(1px, 1px, 1px, 1px);height: 1px;margin: -1px;overflow: hidden;padding: 0;position: absolute;width: 1px;}#sk-container-id-3 div.sk-estimator {font-family: monospace;background-color: #f0f8ff;border: 1px dotted black;border-radius: 0.25em;box-sizing: border-box;margin-bottom: 0.5em;}#sk-container-id-3 div.sk-estimator:hover {background-color: #d4ebff;}#sk-container-id-3 div.sk-parallel-item::after {content: \"\";width: 100%;border-bottom: 1px solid gray;flex-grow: 1;}#sk-container-id-3 div.sk-label:hover label.sk-toggleable__label {background-color: #d4ebff;}#sk-container-id-3 div.sk-serial::before {content: \"\";position: absolute;border-left: 1px solid gray;box-sizing: border-box;top: 0;bottom: 0;left: 50%;z-index: 0;}#sk-container-id-3 div.sk-serial {display: flex;flex-direction: column;align-items: center;background-color: white;padding-right: 0.2em;padding-left: 0.2em;position: relative;}#sk-container-id-3 div.sk-item {position: relative;z-index: 1;}#sk-container-id-3 div.sk-parallel {display: flex;align-items: stretch;justify-content: center;background-color: white;position: relative;}#sk-container-id-3 div.sk-item::before, #sk-container-id-3 div.sk-parallel-item::before {content: \"\";position: absolute;border-left: 1px solid gray;box-sizing: border-box;top: 0;bottom: 0;left: 50%;z-index: -1;}#sk-container-id-3 div.sk-parallel-item {display: flex;flex-direction: column;z-index: 1;position: relative;background-color: white;}#sk-container-id-3 div.sk-parallel-item:first-child::after {align-self: flex-end;width: 50%;}#sk-container-id-3 div.sk-parallel-item:last-child::after {align-self: flex-start;width: 50%;}#sk-container-id-3 div.sk-parallel-item:only-child::after {width: 0;}#sk-container-id-3 div.sk-dashed-wrapped {border: 1px dashed gray;margin: 0 0.4em 0.5em 0.4em;box-sizing: border-box;padding-bottom: 0.4em;background-color: white;}#sk-container-id-3 div.sk-label label {font-family: monospace;font-weight: bold;display: inline-block;line-height: 1.2em;}#sk-container-id-3 div.sk-label-container {text-align: center;}#sk-container-id-3 div.sk-container {/* jupyter's `normalize.less` sets `[hidden] { display: none; }` but bootstrap.min.css set `[hidden] { display: none !important; }` so we also need the `!important` here to be able to override the default hidden behavior on the sphinx rendered scikit-learn.org. See: https://github.com/scikit-learn/scikit-learn/issues/21755 */display: inline-block !important;position: relative;}#sk-container-id-3 div.sk-text-repr-fallback {display: none;}</style><div id=\"sk-container-id-3\" class=\"sk-top-container\"><div class=\"sk-text-repr-fallback\"><pre>GridSearchCV(cv=5, estimator=GradientBoostingRegressor(random_state=42),\n",
       "             param_grid={&#x27;learning_rate&#x27;: [0.01, 0.1, 0.2],\n",
       "                         &#x27;max_depth&#x27;: [3, 5, 10],\n",
       "                         &#x27;n_estimators&#x27;: [100, 200, 300],\n",
       "                         &#x27;subsample&#x27;: [0.8, 1.0]},\n",
       "             scoring=&#x27;neg_mean_squared_error&#x27;)</pre><b>In a Jupyter environment, please rerun this cell to show the HTML representation or trust the notebook. <br />On GitHub, the HTML representation is unable to render, please try loading this page with nbviewer.org.</b></div><div class=\"sk-container\" hidden><div class=\"sk-item sk-dashed-wrapped\"><div class=\"sk-label-container\"><div class=\"sk-label sk-toggleable\"><input class=\"sk-toggleable__control sk-hidden--visually\" id=\"sk-estimator-id-5\" type=\"checkbox\" ><label for=\"sk-estimator-id-5\" class=\"sk-toggleable__label sk-toggleable__label-arrow\">GridSearchCV</label><div class=\"sk-toggleable__content\"><pre>GridSearchCV(cv=5, estimator=GradientBoostingRegressor(random_state=42),\n",
       "             param_grid={&#x27;learning_rate&#x27;: [0.01, 0.1, 0.2],\n",
       "                         &#x27;max_depth&#x27;: [3, 5, 10],\n",
       "                         &#x27;n_estimators&#x27;: [100, 200, 300],\n",
       "                         &#x27;subsample&#x27;: [0.8, 1.0]},\n",
       "             scoring=&#x27;neg_mean_squared_error&#x27;)</pre></div></div></div><div class=\"sk-parallel\"><div class=\"sk-parallel-item\"><div class=\"sk-item\"><div class=\"sk-label-container\"><div class=\"sk-label sk-toggleable\"><input class=\"sk-toggleable__control sk-hidden--visually\" id=\"sk-estimator-id-6\" type=\"checkbox\" ><label for=\"sk-estimator-id-6\" class=\"sk-toggleable__label sk-toggleable__label-arrow\">estimator: GradientBoostingRegressor</label><div class=\"sk-toggleable__content\"><pre>GradientBoostingRegressor(random_state=42)</pre></div></div></div><div class=\"sk-serial\"><div class=\"sk-item\"><div class=\"sk-estimator sk-toggleable\"><input class=\"sk-toggleable__control sk-hidden--visually\" id=\"sk-estimator-id-7\" type=\"checkbox\" ><label for=\"sk-estimator-id-7\" class=\"sk-toggleable__label sk-toggleable__label-arrow\">GradientBoostingRegressor</label><div class=\"sk-toggleable__content\"><pre>GradientBoostingRegressor(random_state=42)</pre></div></div></div></div></div></div></div></div></div></div>"
      ],
      "text/plain": [
       "GridSearchCV(cv=5, estimator=GradientBoostingRegressor(random_state=42),\n",
       "             param_grid={'learning_rate': [0.01, 0.1, 0.2],\n",
       "                         'max_depth': [3, 5, 10],\n",
       "                         'n_estimators': [100, 200, 300],\n",
       "                         'subsample': [0.8, 1.0]},\n",
       "             scoring='neg_mean_squared_error')"
      ]
     },
     "execution_count": 75,
     "metadata": {},
     "output_type": "execute_result"
    }
   ],
   "source": [
    "grid_search_gbr = GridSearchCV(gbr_model, param_grid_gbr, cv=5, scoring='neg_mean_squared_error')\n",
    "grid_search_gbr.fit(x_train, y_train)"
   ]
  },
  {
   "cell_type": "code",
   "execution_count": 76,
   "id": "7b79610a",
   "metadata": {},
   "outputs": [],
   "source": [
    "best_gbr_model = grid_search_gbr.best_estimator_"
   ]
  },
  {
   "cell_type": "code",
   "execution_count": 77,
   "id": "eb3a8a05",
   "metadata": {},
   "outputs": [
    {
     "name": "stdout",
     "output_type": "stream",
     "text": [
      "Gradient Boosting MSE: 1.0224643786975325\n",
      "Best Parameters: {'learning_rate': 0.1, 'max_depth': 5, 'n_estimators': 300, 'subsample': 0.8}\n"
     ]
    }
   ],
   "source": [
    "y_pred_gbr = best_gbr_model.predict(x_test)\n",
    "mse_gbr = mean_squared_error(y_test, y_pred_gbr)\n",
    "print(f\"Gradient Boosting MSE: {mse_gbr}\")\n",
    "print(f\"Best Parameters: {grid_search_gbr.best_params_}\")"
   ]
  },
  {
   "cell_type": "markdown",
   "id": "416251e8",
   "metadata": {},
   "source": [
    "# MODEL EVALUATION"
   ]
  },
  {
   "cell_type": "code",
   "execution_count": 78,
   "id": "b6af183a",
   "metadata": {},
   "outputs": [],
   "source": [
    "from sklearn.metrics import mean_absolute_error, mean_squared_error, r2_score\n",
    "\n",
    "def evaluate_model(y_true, y_pred):\n",
    "    mae = mean_absolute_error(y_true, y_pred)\n",
    "    mse = mean_squared_error(y_true, y_pred)\n",
    "    r2 = r2_score(y_true, y_pred)\n",
    "    \n",
    "    print(f\"Mean Absolute Error (MAE): {mae}\")\n",
    "    print(f\"Mean Squared Error (MSE): {mse}\")\n",
    "    print(f\"R-squared (R2): {r2}\")\n",
    "    print(\"\\n\")"
   ]
  },
  {
   "cell_type": "code",
   "execution_count": 79,
   "id": "3d461c6b",
   "metadata": {},
   "outputs": [
    {
     "name": "stdout",
     "output_type": "stream",
     "text": [
      "Linear Regression Performance:\n",
      "Mean Absolute Error (MAE): 1.2784694682344955\n",
      "Mean Squared Error (MSE): 2.8704591005278295\n",
      "R-squared (R2): 0.7003818488070768\n",
      "\n",
      "\n"
     ]
    }
   ],
   "source": [
    "print(\"Linear Regression Performance:\")\n",
    "y_pred_linear = linear_model.predict(x_test)\n",
    "lr_eval = evaluate_model(y_test, y_pred_linear)\n",
    "lr_eval"
   ]
  },
  {
   "cell_type": "code",
   "execution_count": 80,
   "id": "0f36292f",
   "metadata": {},
   "outputs": [
    {
     "name": "stdout",
     "output_type": "stream",
     "text": [
      "Decision Tree Performance:\n",
      "Mean Absolute Error (MAE): 0.8702945553508337\n",
      "Mean Squared Error (MSE): 1.551047298794117\n",
      "R-squared (R2): 0.8381018827294852\n",
      "\n",
      "\n"
     ]
    }
   ],
   "source": [
    "print(\"Decision Tree Performance:\")\n",
    "y_pred_tree = best_tree_model.predict(x_test)\n",
    "dt_eval = evaluate_model(y_test, y_pred_tree)\n",
    "dt_eval"
   ]
  },
  {
   "cell_type": "code",
   "execution_count": 81,
   "id": "a0f53c2c",
   "metadata": {},
   "outputs": [
    {
     "name": "stdout",
     "output_type": "stream",
     "text": [
      "Gradient Boosting Performance:\n",
      "Mean Absolute Error (MAE): 0.7391206373813539\n",
      "Mean Squared Error (MSE): 1.0224643786975325\n",
      "R-squared (R2): 0.8932752998467586\n",
      "\n",
      "\n"
     ]
    }
   ],
   "source": [
    "print(\"Gradient Boosting Performance:\")\n",
    "y_pred_gbr = best_gbr_model.predict(x_test)\n",
    "gb_eval = evaluate_model(y_test, y_pred_gbr)\n",
    "gb_eval"
   ]
  },
  {
   "cell_type": "markdown",
   "id": "8002ceca",
   "metadata": {},
   "source": [
    "# REGULARIZATION"
   ]
  },
  {
   "cell_type": "code",
   "execution_count": 82,
   "id": "e3e661d8",
   "metadata": {},
   "outputs": [],
   "source": [
    "from sklearn.linear_model import Lasso, Ridge\n",
    "from sklearn.model_selection import GridSearchCV"
   ]
  },
  {
   "cell_type": "markdown",
   "id": "ed4f0be7",
   "metadata": {},
   "source": [
    "LASSO REGULARIZATION / L1 REGULARIZATION"
   ]
  },
  {
   "cell_type": "code",
   "execution_count": 83,
   "id": "63f6dc88",
   "metadata": {},
   "outputs": [
    {
     "name": "stdout",
     "output_type": "stream",
     "text": [
      "Best Lasso Model: Lasso(alpha=0.001)\n",
      "Mean Absolute Error (MAE): 1.2783531441797455\n",
      "Mean Squared Error (MSE): 2.8705345241783125\n",
      "R-squared (R2): 0.700373976096154\n",
      "\n",
      "\n"
     ]
    }
   ],
   "source": [
    "lasso = Lasso()\n",
    "params_lasso = {'alpha': [0.001, 0.01, 0.1, 1, 10, 100]} \n",
    "lasso_grid = GridSearchCV(lasso, params_lasso, cv=5, scoring='neg_mean_squared_error')\n",
    "lasso_grid.fit(x_train, y_train)\n",
    "\n",
    "best_lasso_model = lasso_grid.best_estimator_\n",
    "print(\"Best Lasso Model:\", best_lasso_model)\n",
    "\n",
    "y_pred_lasso = best_lasso_model.predict(x_test)\n",
    "lasso_eval = evaluate_model(y_test, y_pred_lasso)\n",
    "lasso_eval"
   ]
  },
  {
   "cell_type": "markdown",
   "id": "7cd34841",
   "metadata": {},
   "source": [
    "RIDGE REGULARIZATION / L2 REGULARIZATION"
   ]
  },
  {
   "cell_type": "code",
   "execution_count": 84,
   "id": "1cf8539f",
   "metadata": {},
   "outputs": [
    {
     "name": "stdout",
     "output_type": "stream",
     "text": [
      "Best Ridge Model: Ridge(alpha=10)\n",
      "Mean Absolute Error (MAE): 1.2783578465446883\n",
      "Mean Squared Error (MSE): 2.8703951227751814\n",
      "R-squared (R2): 0.7003885267966576\n",
      "\n",
      "\n"
     ]
    }
   ],
   "source": [
    "ridge = Ridge()\n",
    "params_ridge = {'alpha': [0.001, 0.01, 0.1, 1, 10, 100]} \n",
    "ridge_grid = GridSearchCV(ridge, params_ridge, cv=5, scoring='neg_mean_squared_error')\n",
    "ridge_grid.fit(x_train, y_train)\n",
    "\n",
    "best_ridge_model = ridge_grid.best_estimator_\n",
    "print(\"Best Ridge Model:\", best_ridge_model)\n",
    "\n",
    "y_pred_ridge = best_ridge_model.predict(x_test)\n",
    "ridge_eval = evaluate_model(y_test, y_pred_ridge)\n",
    "ridge_eval"
   ]
  },
  {
   "cell_type": "code",
   "execution_count": 85,
   "id": "f237e766",
   "metadata": {},
   "outputs": [
    {
     "name": "stdout",
     "output_type": "stream",
     "text": [
      "Model saved at: /Users/jainivedhitha/Desktop/mp_model.pkl\n"
     ]
    }
   ],
   "source": [
    "import joblib\n",
    "\n",
    "save_path = '/Users/jainivedhitha/Desktop/mp_model.pkl'  # Specify the full path\n",
    "joblib.dump(best_gbr_model, save_path)\n",
    "\n",
    "print(f\"Model saved at: {save_path}\")\n"
   ]
  }
 ],
 "metadata": {
  "kernelspec": {
   "display_name": "Python 3 (ipykernel)",
   "language": "python",
   "name": "python3"
  },
  "language_info": {
   "codemirror_mode": {
    "name": "ipython",
    "version": 3
   },
   "file_extension": ".py",
   "mimetype": "text/x-python",
   "name": "python",
   "nbconvert_exporter": "python",
   "pygments_lexer": "ipython3",
   "version": "3.11.5"
  }
 },
 "nbformat": 4,
 "nbformat_minor": 5
}
