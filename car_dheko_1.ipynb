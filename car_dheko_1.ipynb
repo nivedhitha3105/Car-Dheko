{
 "cells": [
  {
   "cell_type": "code",
   "execution_count": 1,
   "id": "58fdf16c",
   "metadata": {},
   "outputs": [],
   "source": [
    "import pandas as pd\n",
    "import os\n"
   ]
  },
  {
   "cell_type": "code",
   "execution_count": 2,
   "id": "00f273f2",
   "metadata": {},
   "outputs": [
    {
     "name": "stdout",
     "output_type": "stream",
     "text": [
      "Successfully read jaipur_cars.xlsx and extracted city: jaipur\n",
      "Successfully read bangalore_cars.xlsx and extracted city: bangalore\n",
      "Successfully read kolkata_cars.xlsx and extracted city: kolkata\n",
      "Successfully read chennai_cars.xlsx and extracted city: chennai\n",
      "Successfully read hyderabad_cars.xlsx and extracted city: hyderabad\n",
      "Successfully read delhi_cars.xlsx and extracted city: delhi\n"
     ]
    }
   ],
   "source": [
    "import os\n",
    "import pandas as pd\n",
    "folder_path = '/Users/jainivedhitha/Desktop/car_data'\n",
    "\n",
    "city_dataframes = []\n",
    "\n",
    "for filename in os.listdir(folder_path):\n",
    "    if filename.endswith('.xlsx'):  \n",
    "        file_path = os.path.join(folder_path, filename)\n",
    "        try:\n",
    "            df = pd.read_excel(file_path, engine='openpyxl')\n",
    "\n",
    "            city_name = filename.split('_')[0]\n",
    "                       \n",
    "            df['City'] = city_name\n",
    "            \n",
    "            city_dataframes.append(df)\n",
    "            print(f\"Successfully read {filename} and extracted city: {city_name}\")\n",
    "        except Exception as e:\n",
    "            print(f\"Error reading {filename}: {e}\")\n",
    "\n",
    "full_dataset = pd.concat(city_dataframes, ignore_index=True)\n"
   ]
  },
  {
   "cell_type": "code",
   "execution_count": 3,
   "id": "74079798",
   "metadata": {},
   "outputs": [
    {
     "name": "stdout",
     "output_type": "stream",
     "text": [
      "<class 'pandas.core.frame.DataFrame'>\n",
      "RangeIndex: 8369 entries, 0 to 8368\n",
      "Data columns (total 6 columns):\n",
      " #   Column            Non-Null Count  Dtype \n",
      "---  ------            --------------  ----- \n",
      " 0   new_car_detail    8369 non-null   object\n",
      " 1   new_car_overview  8369 non-null   object\n",
      " 2   new_car_feature   8369 non-null   object\n",
      " 3   new_car_specs     8369 non-null   object\n",
      " 4   car_links         8369 non-null   object\n",
      " 5   City              8369 non-null   object\n",
      "dtypes: object(6)\n",
      "memory usage: 392.4+ KB\n",
      "None\n"
     ]
    }
   ],
   "source": [
    "print(full_dataset.info())"
   ]
  },
  {
   "cell_type": "code",
   "execution_count": 4,
   "id": "5edd14e4",
   "metadata": {},
   "outputs": [
    {
     "name": "stdout",
     "output_type": "stream",
     "text": [
      "Index(['new_car_detail', 'new_car_overview', 'new_car_feature',\n",
      "       'new_car_specs', 'car_links', 'City'],\n",
      "      dtype='object')\n"
     ]
    }
   ],
   "source": [
    "print(full_dataset.columns)\n"
   ]
  },
  {
   "cell_type": "code",
   "execution_count": 5,
   "id": "bea1902c",
   "metadata": {},
   "outputs": [],
   "source": [
    "import ast"
   ]
  },
  {
   "cell_type": "code",
   "execution_count": 6,
   "id": "e6b927a7",
   "metadata": {},
   "outputs": [],
   "source": [
    "def structure_data(df):\n",
    "    d1_list = []\n",
    "    d2_list = []\n",
    "    d3_list = []\n",
    "    d4_list = []\n",
    "    d5_list = []\n",
    "    for row in range(len(df)):\n",
    "        a = df.iloc[row][\"new_car_detail\"]\n",
    "        res = ast.literal_eval(a)\n",
    "        d_df = pd.DataFrame([res])\n",
    "        d1_list.append(d_df)\n",
    "        \n",
    "        \n",
    "        b = df.iloc[row][\"new_car_overview\"]\n",
    "        res = ast.literal_eval(b)\n",
    "        o_df = pd.DataFrame([res])\n",
    "        key_lst = []\n",
    "        val_lst = []\n",
    "        for i in o_df[\"top\"]:\n",
    "            for j in i:\n",
    "                key_lst.append(j['key'])\n",
    "                val_lst.append(j['value'])\n",
    "        result = dict(zip(key_lst,val_lst))\n",
    "        o_df = pd.DataFrame([result])\n",
    "        d2_list.append(o_df)\n",
    "        \n",
    "        \n",
    "        c = df.iloc[row][\"new_car_feature\"]\n",
    "        res = ast.literal_eval(c)\n",
    "        f_df = pd.DataFrame()\n",
    "        for i in res.keys():\n",
    "            if i == 'heading':\n",
    "                f_df[res[i]] = [len(res[\"top\"])]\n",
    "            elif i == 'data':\n",
    "                for a in res[i]:\n",
    "                    for b in a:\n",
    "                        if b == 'heading':\n",
    "                            f_df[a[b]] = [len(a[\"list\"])]\n",
    "        d3_list.append(f_df)\n",
    "        \n",
    "        d = df.iloc[row][\"new_car_specs\"]\n",
    "        res = ast.literal_eval(d)\n",
    "        s_df = pd.DataFrame()\n",
    "        for i in res.keys():\n",
    "            if i == 'top':\n",
    "                for j in res[i]:\n",
    "                    s_df[j['key']] = [j['value']]\n",
    "            elif i == 'data':\n",
    "                for a in res[i]:\n",
    "                    for b in a:\n",
    "                        if b == 'heading':\n",
    "                            s_df[a[b]] = [len(a[\"list\"])]\n",
    "                        elif b == 'list':\n",
    "                            for j in a[b]:\n",
    "                                s_df[j[\"key\"]] = [j[\"value\"]]\n",
    "        s_df = s_df.rename(columns = {'Seats':'Seats_capacity'})\n",
    "        d4_list.append(s_df)\n",
    "        \n",
    "        e = df.iloc[row][\"car_links\"]\n",
    "        c_df = pd.DataFrame([e])\n",
    "        d5_list.append(c_df)\n",
    "    \n",
    "    d1 = pd.concat(d1_list,ignore_index = True)\n",
    "    d2 = pd.concat(d2_list,ignore_index = True)\n",
    "    d3 = pd.concat(d3_list,ignore_index = True)\n",
    "    d4 = pd.concat(d4_list,ignore_index = True)\n",
    "    d5 = pd.concat(d5_list,ignore_index = True)\n",
    "    \n",
    "    \n",
    "    df = d1.join(d2).join(d3).join(d4).join(d5)\n",
    "    df.rename(columns = {0:\"car_links\"},inplace = True)\n",
    "    \n",
    "    return df"
   ]
  },
  {
   "cell_type": "code",
   "execution_count": 7,
   "id": "16ab34da",
   "metadata": {},
   "outputs": [],
   "source": [
    "full_dataset = structure_data(full_dataset)"
   ]
  },
  {
   "cell_type": "code",
   "execution_count": 8,
   "id": "dfa2bebd",
   "metadata": {},
   "outputs": [],
   "source": [
    "full_dataset.rename(columns={'bt': 'body type'}, inplace=True)\n"
   ]
  },
  {
   "cell_type": "code",
   "execution_count": 9,
   "id": "b26e9b1f",
   "metadata": {},
   "outputs": [
    {
     "data": {
      "text/html": [
       "<div>\n",
       "<style scoped>\n",
       "    .dataframe tbody tr th:only-of-type {\n",
       "        vertical-align: middle;\n",
       "    }\n",
       "\n",
       "    .dataframe tbody tr th {\n",
       "        vertical-align: top;\n",
       "    }\n",
       "\n",
       "    .dataframe thead th {\n",
       "        text-align: right;\n",
       "    }\n",
       "</style>\n",
       "<table border=\"1\" class=\"dataframe\">\n",
       "  <thead>\n",
       "    <tr style=\"text-align: right;\">\n",
       "      <th></th>\n",
       "      <th>it</th>\n",
       "      <th>ft</th>\n",
       "      <th>body type</th>\n",
       "      <th>km</th>\n",
       "      <th>transmission</th>\n",
       "      <th>ownerNo</th>\n",
       "      <th>owner</th>\n",
       "      <th>oem</th>\n",
       "      <th>model</th>\n",
       "      <th>modelYear</th>\n",
       "      <th>...</th>\n",
       "      <th>Acceleration</th>\n",
       "      <th>Tyre Type</th>\n",
       "      <th>Alloy Wheel Size</th>\n",
       "      <th>No Door Numbers</th>\n",
       "      <th>Cargo Volumn</th>\n",
       "      <th>Gross Weight</th>\n",
       "      <th>BoreX Stroke</th>\n",
       "      <th>Compression Ratio</th>\n",
       "      <th>Ground Clearance Unladen</th>\n",
       "      <th>car_links</th>\n",
       "    </tr>\n",
       "  </thead>\n",
       "  <tbody>\n",
       "    <tr>\n",
       "      <th>0</th>\n",
       "      <td>0</td>\n",
       "      <td>Diesel</td>\n",
       "      <td>Hatchback</td>\n",
       "      <td>1,20,000</td>\n",
       "      <td>Manual</td>\n",
       "      <td>2</td>\n",
       "      <td>2nd Owner</td>\n",
       "      <td>Hyundai</td>\n",
       "      <td>Hyundai i20</td>\n",
       "      <td>2015</td>\n",
       "      <td>...</td>\n",
       "      <td>11.9 Seconds</td>\n",
       "      <td>Tubeless</td>\n",
       "      <td>16</td>\n",
       "      <td>5</td>\n",
       "      <td>295-litres</td>\n",
       "      <td>NaN</td>\n",
       "      <td>NaN</td>\n",
       "      <td>NaN</td>\n",
       "      <td>NaN</td>\n",
       "      <td>https://www.cardekho.com/used-car-details/used...</td>\n",
       "    </tr>\n",
       "    <tr>\n",
       "      <th>1</th>\n",
       "      <td>0</td>\n",
       "      <td>Petrol</td>\n",
       "      <td>Hatchback</td>\n",
       "      <td>66,951</td>\n",
       "      <td>Manual</td>\n",
       "      <td>1</td>\n",
       "      <td>1st Owner</td>\n",
       "      <td>Maruti</td>\n",
       "      <td>Maruti Swift</td>\n",
       "      <td>2012</td>\n",
       "      <td>...</td>\n",
       "      <td>NaN</td>\n",
       "      <td>Radial, Tubeless</td>\n",
       "      <td>NaN</td>\n",
       "      <td>5</td>\n",
       "      <td>268</td>\n",
       "      <td>1335</td>\n",
       "      <td>NaN</td>\n",
       "      <td>NaN</td>\n",
       "      <td>NaN</td>\n",
       "      <td>https://www.cardekho.com/buy-used-car-details/...</td>\n",
       "    </tr>\n",
       "    <tr>\n",
       "      <th>2</th>\n",
       "      <td>0</td>\n",
       "      <td>Petrol</td>\n",
       "      <td>Hatchback</td>\n",
       "      <td>80,000</td>\n",
       "      <td>Automatic</td>\n",
       "      <td>2</td>\n",
       "      <td>2nd Owner</td>\n",
       "      <td>Maruti</td>\n",
       "      <td>Maruti Celerio</td>\n",
       "      <td>2016</td>\n",
       "      <td>...</td>\n",
       "      <td>15.05 Seconds</td>\n",
       "      <td>Tubeless, Radial</td>\n",
       "      <td>NaN</td>\n",
       "      <td>5</td>\n",
       "      <td>235-litres</td>\n",
       "      <td>1250kg</td>\n",
       "      <td>73 X 82 mm</td>\n",
       "      <td>11.0:1</td>\n",
       "      <td>NaN</td>\n",
       "      <td>https://www.cardekho.com/used-car-details/used...</td>\n",
       "    </tr>\n",
       "    <tr>\n",
       "      <th>3</th>\n",
       "      <td>0</td>\n",
       "      <td>Petrol</td>\n",
       "      <td>Hatchback</td>\n",
       "      <td>44,392</td>\n",
       "      <td>Manual</td>\n",
       "      <td>1</td>\n",
       "      <td>1st Owner</td>\n",
       "      <td>Hyundai</td>\n",
       "      <td>Hyundai Grand i10</td>\n",
       "      <td>2017</td>\n",
       "      <td>...</td>\n",
       "      <td>12.9 Seconds</td>\n",
       "      <td>Tubeless</td>\n",
       "      <td>NaN</td>\n",
       "      <td>5</td>\n",
       "      <td>256</td>\n",
       "      <td>NaN</td>\n",
       "      <td>NaN</td>\n",
       "      <td>NaN</td>\n",
       "      <td>NaN</td>\n",
       "      <td>https://www.cardekho.com/buy-used-car-details/...</td>\n",
       "    </tr>\n",
       "    <tr>\n",
       "      <th>4</th>\n",
       "      <td>0</td>\n",
       "      <td>Petrol</td>\n",
       "      <td>Hatchback</td>\n",
       "      <td>40,000</td>\n",
       "      <td>Automatic</td>\n",
       "      <td>1</td>\n",
       "      <td>1st Owner</td>\n",
       "      <td>Maruti</td>\n",
       "      <td>Maruti Wagon R</td>\n",
       "      <td>2016</td>\n",
       "      <td>...</td>\n",
       "      <td>18.6 Seconds</td>\n",
       "      <td>Tubeless Tyres</td>\n",
       "      <td>NaN</td>\n",
       "      <td>5</td>\n",
       "      <td>180-liters</td>\n",
       "      <td>1350kg</td>\n",
       "      <td>69 x 72 mm</td>\n",
       "      <td>NaN</td>\n",
       "      <td>NaN</td>\n",
       "      <td>https://www.cardekho.com/used-car-details/used...</td>\n",
       "    </tr>\n",
       "  </tbody>\n",
       "</table>\n",
       "<p>5 rows × 77 columns</p>\n",
       "</div>"
      ],
      "text/plain": [
       "   it      ft  body type        km transmission  ownerNo      owner      oem  \\\n",
       "0   0  Diesel  Hatchback  1,20,000       Manual        2  2nd Owner  Hyundai   \n",
       "1   0  Petrol  Hatchback    66,951       Manual        1  1st Owner   Maruti   \n",
       "2   0  Petrol  Hatchback    80,000    Automatic        2  2nd Owner   Maruti   \n",
       "3   0  Petrol  Hatchback    44,392       Manual        1  1st Owner  Hyundai   \n",
       "4   0  Petrol  Hatchback    40,000    Automatic        1  1st Owner   Maruti   \n",
       "\n",
       "               model  modelYear  ...   Acceleration         Tyre Type  \\\n",
       "0        Hyundai i20       2015  ...   11.9 Seconds          Tubeless   \n",
       "1       Maruti Swift       2012  ...            NaN  Radial, Tubeless   \n",
       "2     Maruti Celerio       2016  ...  15.05 Seconds  Tubeless, Radial   \n",
       "3  Hyundai Grand i10       2017  ...   12.9 Seconds          Tubeless   \n",
       "4     Maruti Wagon R       2016  ...   18.6 Seconds    Tubeless Tyres   \n",
       "\n",
       "  Alloy Wheel Size No Door Numbers Cargo Volumn Gross Weight BoreX Stroke  \\\n",
       "0               16               5   295-litres          NaN          NaN   \n",
       "1              NaN               5          268         1335          NaN   \n",
       "2              NaN               5   235-litres       1250kg   73 X 82 mm   \n",
       "3              NaN               5          256          NaN          NaN   \n",
       "4              NaN               5   180-liters       1350kg   69 x 72 mm   \n",
       "\n",
       "  Compression Ratio Ground Clearance Unladen  \\\n",
       "0               NaN                      NaN   \n",
       "1               NaN                      NaN   \n",
       "2            11.0:1                      NaN   \n",
       "3               NaN                      NaN   \n",
       "4               NaN                      NaN   \n",
       "\n",
       "                                           car_links  \n",
       "0  https://www.cardekho.com/used-car-details/used...  \n",
       "1  https://www.cardekho.com/buy-used-car-details/...  \n",
       "2  https://www.cardekho.com/used-car-details/used...  \n",
       "3  https://www.cardekho.com/buy-used-car-details/...  \n",
       "4  https://www.cardekho.com/used-car-details/used...  \n",
       "\n",
       "[5 rows x 77 columns]"
      ]
     },
     "execution_count": 9,
     "metadata": {},
     "output_type": "execute_result"
    }
   ],
   "source": [
    "full_dataset.head()"
   ]
  },
  {
   "cell_type": "code",
   "execution_count": 10,
   "id": "54be9e8b",
   "metadata": {},
   "outputs": [
    {
     "data": {
      "text/plain": [
       "Index(['it', 'ft', 'body type', 'km', 'transmission', 'ownerNo', 'owner',\n",
       "       'oem', 'model', 'modelYear', 'centralVariantId', 'variantName', 'price',\n",
       "       'priceActual', 'priceSaving', 'priceFixedText', 'trendingText',\n",
       "       'Registration Year', 'Insurance Validity', 'Fuel Type', 'Seats',\n",
       "       'Kms Driven', 'RTO', 'Ownership', 'Engine Displacement', 'Transmission',\n",
       "       'Year of Manufacture', 'Features', 'Comfort & Convenience', 'Interior',\n",
       "       'Exterior', 'Safety', 'Entertainment & Communication', 'Mileage',\n",
       "       'Engine', 'Max Power', 'Torque', 'Wheel Size', 'Seats_capacity',\n",
       "       'Engine and Transmission', 'Color', 'Engine Type', 'Displacement',\n",
       "       'Max Torque', 'No of Cylinder', 'Values per Cylinder',\n",
       "       'Value Configuration', 'Fuel Suppy System', 'Turbo Charger',\n",
       "       'Super Charger', 'Dimensions & Capacity', 'Length', 'Width', 'Height',\n",
       "       'Wheel Base', 'Front Tread', 'Rear Tread', 'Kerb Weight',\n",
       "       'Miscellaneous', 'Gear Box', 'Drive Type', 'Seating Capacity',\n",
       "       'Steering Type', 'Turning Radius', 'Front Brake Type',\n",
       "       'Rear Brake Type', 'Top Speed', 'Acceleration', 'Tyre Type',\n",
       "       'Alloy Wheel Size', 'No Door Numbers', 'Cargo Volumn', 'Gross Weight',\n",
       "       'BoreX Stroke', 'Compression Ratio', 'Ground Clearance Unladen',\n",
       "       'car_links'],\n",
       "      dtype='object')"
      ]
     },
     "execution_count": 10,
     "metadata": {},
     "output_type": "execute_result"
    }
   ],
   "source": [
    "full_dataset.columns"
   ]
  },
  {
   "cell_type": "code",
   "execution_count": 11,
   "id": "a7da2ba5",
   "metadata": {},
   "outputs": [
    {
     "data": {
      "text/plain": [
       "Ground Clearance Unladen\n",
       "190mm     128\n",
       "160        73\n",
       "209 mm     39\n",
       "180mm      35\n",
       "120mm      32\n",
       "178mm      32\n",
       "185mm      32\n",
       "155mm      28\n",
       "192mm      24\n",
       "145mm      16\n",
       "205        12\n",
       "170         9\n",
       "116mm       9\n",
       "210mm       8\n",
       "184mm       6\n",
       "200mm       6\n",
       "140mm       5\n",
       "110mm       4\n",
       "91mm        3\n",
       "170mm       3\n",
       "210 mm      3\n",
       "165         2\n",
       "205mm       2\n",
       "180         2\n",
       "156mm       1\n",
       "175mm       1\n",
       "Name: count, dtype: int64"
      ]
     },
     "execution_count": 11,
     "metadata": {},
     "output_type": "execute_result"
    }
   ],
   "source": [
    "full_dataset['Ground Clearance Unladen'].value_counts()"
   ]
  },
  {
   "cell_type": "code",
   "execution_count": 12,
   "id": "403418b6",
   "metadata": {},
   "outputs": [
    {
     "data": {
      "text/plain": [
       "Engine\n",
       "1197 CC    1607\n",
       "998 CC      640\n",
       "1199 CC     489\n",
       "1497 CC     451\n",
       "1248 CC     424\n",
       "           ... \n",
       "3993 CC       1\n",
       "1948 CC       1\n",
       "4806 CC       1\n",
       "2994 CC       1\n",
       "2979 CC       1\n",
       "Name: count, Length: 150, dtype: int64"
      ]
     },
     "execution_count": 12,
     "metadata": {},
     "output_type": "execute_result"
    }
   ],
   "source": [
    "full_dataset['Engine'].value_counts()"
   ]
  },
  {
   "cell_type": "code",
   "execution_count": 13,
   "id": "7a734e28",
   "metadata": {},
   "outputs": [],
   "source": [
    "full_dataset = full_dataset.drop(columns = ['ft','Kms Driven','Seats','Seats_capacity','transmission','owner',\n",
    "                                           'priceSaving','priceFixedText','trendingText','Engine Displacement'],index = 1 )"
   ]
  },
  {
   "cell_type": "code",
   "execution_count": 14,
   "id": "191c5c98",
   "metadata": {},
   "outputs": [
    {
     "name": "stdout",
     "output_type": "stream",
     "text": [
      "0    2015\n",
      "2    2016\n",
      "3    2017\n",
      "4    2016\n",
      "5    2007\n",
      "Name: Registration Year, dtype: object\n"
     ]
    }
   ],
   "source": [
    "import re\n",
    "import pandas as pd\n",
    "\n",
    "def clean_registration_year(value):\n",
    "    if pd.isna(value):\n",
    "        return pd.NA\n",
    "    year_matches = re.findall(r'\\d{4}', str(value))\n",
    "    \n",
    "    if year_matches:\n",
    "\n",
    "        return int(year_matches[0])\n",
    "    else:\n",
    "        return pd.NA \n",
    "\n",
    "full_dataset['Registration Year'] = full_dataset['Registration Year'].apply(clean_registration_year)\n",
    "\n",
    "print(full_dataset['Registration Year'].head())\n"
   ]
  },
  {
   "cell_type": "code",
   "execution_count": 15,
   "id": "6c4eac51",
   "metadata": {},
   "outputs": [
    {
     "name": "stdout",
     "output_type": "stream",
     "text": [
      "0    Third Party\n",
      "2    Third Party\n",
      "3    Third Party\n",
      "4    Third Party\n",
      "5    Third Party\n",
      "Name: Insurance Validity, dtype: object\n"
     ]
    }
   ],
   "source": [
    "full_dataset['Insurance Validity'] = full_dataset['Insurance Validity'].str.replace(r'\\binsurance\\b', '', case=False, regex=True)\n",
    "full_dataset['Insurance Validity'] = full_dataset['Insurance Validity'].str.strip()\n",
    "print(full_dataset['Insurance Validity'].head())\n"
   ]
  },
  {
   "cell_type": "code",
   "execution_count": 16,
   "id": "a689b805",
   "metadata": {},
   "outputs": [
    {
     "name": "stdout",
     "output_type": "stream",
     "text": [
      "0    Second\n",
      "2    Second\n",
      "3     First\n",
      "4     First\n",
      "5    Second\n",
      "Name: Ownership, dtype: object\n"
     ]
    }
   ],
   "source": [
    "full_dataset['Ownership'] = full_dataset['Ownership'].str.replace(r'\\bOwner\\b', '', case=False, regex=True)\n",
    "full_dataset['Ownership'] = full_dataset['Ownership'].str.strip()\n",
    "print(full_dataset['Ownership'].head())\n"
   ]
  },
  {
   "cell_type": "code",
   "execution_count": 17,
   "id": "37311e44",
   "metadata": {},
   "outputs": [
    {
     "name": "stdout",
     "output_type": "stream",
     "text": [
      "0    1396\n",
      "2     998\n",
      "3    1197\n",
      "4     998\n",
      "5    1493\n",
      "Name: Engine, dtype: object\n"
     ]
    }
   ],
   "source": [
    "full_dataset['Engine'] = full_dataset['Engine'].str.replace(r'\\bcc\\b', '', case=False, regex=True)\n",
    "full_dataset['Engine'] = full_dataset['Engine'].str.strip()\n",
    "print(full_dataset['Engine'].head())"
   ]
  },
  {
   "cell_type": "code",
   "execution_count": 18,
   "id": "594998c2",
   "metadata": {},
   "outputs": [
    {
     "name": "stdout",
     "output_type": "stream",
     "text": [
      "0    22.54\n",
      "2     23.1\n",
      "3     18.9\n",
      "4    20.51\n",
      "5     16.8\n",
      "Name: Mileage, dtype: object\n"
     ]
    }
   ],
   "source": [
    "full_dataset['Mileage'] = full_dataset['Mileage'].str.replace(r'\\bkmpl\\b', '', case=False, regex=True)\n",
    "full_dataset['Mileage'] = full_dataset['Mileage'].str.replace(r'\\bkm/kg\\b', '', case=False, regex=True)\n",
    "\n",
    "full_dataset['Mileage'] = full_dataset['Mileage'].str.strip()\n",
    "print(full_dataset['Mileage'].head())\n"
   ]
  },
  {
   "cell_type": "code",
   "execution_count": 19,
   "id": "bef6e0cb",
   "metadata": {},
   "outputs": [],
   "source": [
    "#full_dataset['Max Power'] = full_dataset['Max Power'].str.replace('bhp', '', regex=False)\n",
    "#full_dataset['Max Power'] = full_dataset['Max Power'].str.replace('@', '', regex=False)\n",
    "#full_dataset['Max Power'] = full_dataset['Max Power'].str.replace('rpm', '', regex=False)\n",
    "#full_dataset['Max Power'] = full_dataset['Max Power'].str.strip()\n",
    "#print(full_dataset['Max Power'].head())"
   ]
  },
  {
   "cell_type": "code",
   "execution_count": 20,
   "id": "c90ae968",
   "metadata": {},
   "outputs": [
    {
     "name": "stdout",
     "output_type": "stream",
     "text": [
      "0     219.7\n",
      "2        90\n",
      "3    113.75\n",
      "4        90\n",
      "5        24\n",
      "Name: Torque, dtype: object\n"
     ]
    }
   ],
   "source": [
    "full_dataset['Torque'] = full_dataset['Torque'].str.replace('Nm', '', regex=False)\n",
    "full_dataset['Torque'] = full_dataset['Torque'].str.replace('nm', '', regex=False)\n",
    "full_dataset['Torque'] = full_dataset['Torque'].str.replace('kgm', '', regex=False)\n",
    "\n",
    "full_dataset['Torque'] = full_dataset['Torque'].str.strip()\n",
    "print(full_dataset['Torque'].head())\n"
   ]
  },
  {
   "cell_type": "code",
   "execution_count": 21,
   "id": "9e2ba598",
   "metadata": {},
   "outputs": [
    {
     "name": "stdout",
     "output_type": "stream",
     "text": [
      "0     16\n",
      "2    NaN\n",
      "3    NaN\n",
      "4    NaN\n",
      "5     14\n",
      "Name: Wheel Size, dtype: object\n"
     ]
    }
   ],
   "source": [
    "full_dataset['Wheel Size'] = full_dataset['Wheel Size'].str.replace('R', '', regex=False)\n",
    "full_dataset['Wheel Size'] = full_dataset['Wheel Size'].str.strip()\n",
    "print(full_dataset['Wheel Size'].head())\n"
   ]
  },
  {
   "cell_type": "code",
   "execution_count": 22,
   "id": "0cdf2355",
   "metadata": {},
   "outputs": [
    {
     "name": "stdout",
     "output_type": "stream",
     "text": [
      "0    5.10\n",
      "2    3.20\n",
      "3    4.20\n",
      "4    3.50\n",
      "5    1.50\n",
      "Name: price, dtype: object\n"
     ]
    }
   ],
   "source": [
    "full_dataset['price'] = full_dataset['price'].str.replace('Lakh', '', regex=False)\n",
    "full_dataset['price'] = full_dataset['price'].str.replace('₹', '', regex=False)\n",
    "full_dataset['price'] = full_dataset['price'].str.replace('Crore', '', regex=False)\n",
    "full_dataset['price'] = full_dataset['price'].str.strip()\n",
    "print(full_dataset['price'].head())"
   ]
  },
  {
   "cell_type": "code",
   "execution_count": 23,
   "id": "e0366b21",
   "metadata": {},
   "outputs": [
    {
     "name": "stdout",
     "output_type": "stream",
     "text": [
      "0    120000\n",
      "2     80000\n",
      "3     44392\n",
      "4     40000\n",
      "5    150000\n",
      "Name: km, dtype: object\n"
     ]
    }
   ],
   "source": [
    "full_dataset['km'] = full_dataset['km'].str.replace(',', '', regex=False)\n",
    "full_dataset['km'] = full_dataset['km'].str.strip()\n",
    "print(full_dataset['km'].head())\n"
   ]
  },
  {
   "cell_type": "code",
   "execution_count": 24,
   "id": "7bd5fcce",
   "metadata": {},
   "outputs": [
    {
     "name": "stdout",
     "output_type": "stream",
     "text": [
      "0    \n",
      "2    \n",
      "3    \n",
      "4    \n",
      "5    \n",
      "Name: priceActual, dtype: object\n"
     ]
    }
   ],
   "source": [
    "full_dataset['priceActual'] = full_dataset['priceActual'].str.replace('Lakh', '', regex=False)\n",
    "full_dataset['priceActual'] = full_dataset['priceActual'].str.replace('₹', '', regex=False)\n",
    "full_dataset['priceActual'] = full_dataset['priceActual'].str.replace('Crore', '', regex=False)\n",
    "full_dataset['priceActual'] = full_dataset['priceActual'].str.strip()\n",
    "print(full_dataset['priceActual'].head())"
   ]
  },
  {
   "cell_type": "code",
   "execution_count": 45,
   "id": "9fb8910a",
   "metadata": {
    "scrolled": true
   },
   "outputs": [
    {
     "name": "stdout",
     "output_type": "stream",
     "text": [
      "0    2570\n",
      "2    2425\n",
      "3    2425\n",
      "4    2400\n",
      "5    2500\n",
      "Name: Wheel Base, dtype: object\n"
     ]
    }
   ],
   "source": [
    "full_dataset['Wheel Base'] = full_dataset['Wheel Base'].str.replace('mm','',regex = False)\n",
    "full_dataset['Wheel Base'] = full_dataset['Wheel Base'].str.replace(',','',regex = False)\n",
    "full_dataset['Wheel Base'] = full_dataset['Wheel Base'].str.replace('m','',regex = False)\n",
    "full_dataset['Wheel Base'] = full_dataset['Wheel Base'].str.strip()\n",
    "print(full_dataset['Wheel Base'].head())"
   ]
  },
  {
   "cell_type": "code",
   "execution_count": 26,
   "id": "d6480cd9",
   "metadata": {},
   "outputs": [
    {
     "name": "stdout",
     "output_type": "stream",
     "text": [
      "0    1505\n",
      "2    1420\n",
      "3    1479\n",
      "4    1295\n",
      "5     NaN\n",
      "Name: Front Tread, dtype: object\n"
     ]
    }
   ],
   "source": [
    "full_dataset['Front Tread'] = full_dataset['Front Tread'].str.replace('mm','',regex = False)\n",
    "full_dataset['Front Tread'] = full_dataset['Front Tread'].str.replace(',','',regex = False)\n",
    "full_dataset['Front Tread'] = full_dataset['Front Tread'].str.strip()\n",
    "print(full_dataset['Front Tread'].head())"
   ]
  },
  {
   "cell_type": "code",
   "execution_count": 48,
   "id": "b7147744",
   "metadata": {},
   "outputs": [
    {
     "name": "stdout",
     "output_type": "stream",
     "text": [
      "0    1503\n",
      "2    1410\n",
      "3    1493\n",
      "4    1290\n",
      "5     NaN\n",
      "Name: Rear Tread, dtype: object\n"
     ]
    }
   ],
   "source": [
    "full_dataset['Rear Tread'] = full_dataset['Rear Tread'].str.replace('mm','',regex = False)\n",
    "full_dataset['Rear Tread'] = full_dataset['Rear Tread'].str.replace(',','',regex = False)\n",
    "full_dataset['Rear Tread'] = full_dataset['Rear Tread'].str.replace('`','',regex = False)\n",
    "full_dataset['Rear Tread'] = full_dataset['Rear Tread'].str.strip()\n",
    "print(full_dataset['Rear Tread'].head())"
   ]
  },
  {
   "cell_type": "code",
   "execution_count": 52,
   "id": "e32cd297",
   "metadata": {},
   "outputs": [
    {
     "name": "stdout",
     "output_type": "stream",
     "text": [
      "0    1515\n",
      "2     840\n",
      "3    1100\n",
      "4     890\n",
      "5    1173\n",
      "Name: Kerb Weight, dtype: object\n"
     ]
    }
   ],
   "source": [
    "full_dataset['Kerb Weight'] = full_dataset['Kerb Weight'].str.replace('kg','',regex = False)\n",
    "full_dataset['Kerb Weight'] = full_dataset['Kerb Weight'].str.replace('875-905','875',regex = False)\n",
    "full_dataset['Kerb Weight'] = full_dataset['Kerb Weight'].str.replace(',','',regex = False)\n",
    "full_dataset['Kerb Weight'] = full_dataset['Kerb Weight'].str.strip()\n",
    "print(full_dataset['Kerb Weight'].head())"
   ]
  },
  {
   "cell_type": "code",
   "execution_count": 29,
   "id": "80b619d2",
   "metadata": {},
   "outputs": [
    {
     "name": "stdout",
     "output_type": "stream",
     "text": [
      "0    6\n",
      "2    5\n",
      "3    5\n",
      "4    5\n",
      "5    5\n",
      "Name: Gear Box, dtype: object\n"
     ]
    }
   ],
   "source": [
    "full_dataset['Gear Box'] = full_dataset['Gear Box'].str.replace('Speed','',regex = False)\n",
    "full_dataset['Gear Box'] = full_dataset['Gear Box'].str.replace('automatic','',regex = False)\n",
    "full_dataset['Gear Box'] = full_dataset['Gear Box'].str.strip()\n",
    "print(full_dataset['Gear Box'].head())"
   ]
  },
  {
   "cell_type": "code",
   "execution_count": 62,
   "id": "88b0ddb5",
   "metadata": {},
   "outputs": [
    {
     "name": "stdout",
     "output_type": "stream",
     "text": [
      "0    180.0\n",
      "2    150.0\n",
      "3    165.0\n",
      "4    152.0\n",
      "5    185.0\n",
      "Name: Top Speed, dtype: float64\n"
     ]
    }
   ],
   "source": [
    "full_dataset['Top Speed'] = full_dataset['Top Speed'].str.extract('(\\d+)').astype(float)\n",
    "\n",
    "print(full_dataset['Top Speed'].head())"
   ]
  },
  {
   "cell_type": "code",
   "execution_count": 70,
   "id": "f0938d03",
   "metadata": {},
   "outputs": [
    {
     "name": "stdout",
     "output_type": "stream",
     "text": [
      "0    11.0\n",
      "2    15.0\n",
      "3    12.0\n",
      "4    18.0\n",
      "5    11.0\n",
      "Name: Acceleration, dtype: float64\n"
     ]
    }
   ],
   "source": [
    "full_dataset['Acceleration'] = full_dataset['Acceleration'].str.extract('(\\d+)').astype(float)\n",
    "\n",
    "print(full_dataset['Acceleration'].head())"
   ]
  },
  {
   "cell_type": "code",
   "execution_count": 32,
   "id": "bff57c6a",
   "metadata": {},
   "outputs": [
    {
     "name": "stdout",
     "output_type": "stream",
     "text": [
      "0     16\n",
      "2    NaN\n",
      "3    NaN\n",
      "4    NaN\n",
      "5     14\n",
      "Name: Alloy Wheel Size, dtype: object\n"
     ]
    }
   ],
   "source": [
    "full_dataset['Alloy Wheel Size'] = full_dataset['Alloy Wheel Size'].str.replace('R','',regex = False)\n",
    "full_dataset['Alloy Wheel Size'] = full_dataset['Alloy Wheel Size'].str.strip()\n",
    "print(full_dataset['Alloy Wheel Size'].head())"
   ]
  },
  {
   "cell_type": "code",
   "execution_count": 33,
   "id": "ae200c4e",
   "metadata": {},
   "outputs": [
    {
     "name": "stdout",
     "output_type": "stream",
     "text": [
      "0    295.0\n",
      "2    235.0\n",
      "3    256.0\n",
      "4    180.0\n",
      "5    352.0\n",
      "Name: Cargo Volumn, dtype: float64\n"
     ]
    }
   ],
   "source": [
    "full_dataset['Cargo Volumn'] = full_dataset['Cargo Volumn'].str.extract('(\\d+)').astype(float)\n",
    "\n",
    "print(full_dataset['Cargo Volumn'].head())"
   ]
  },
  {
   "cell_type": "code",
   "execution_count": 67,
   "id": "e62918f3",
   "metadata": {
    "scrolled": true
   },
   "outputs": [
    {
     "name": "stdout",
     "output_type": "stream",
     "text": [
      "0       NaN\n",
      "2    1250.0\n",
      "3       NaN\n",
      "4    1350.0\n",
      "5    1650.0\n",
      "Name: Gross Weight, dtype: float64\n"
     ]
    }
   ],
   "source": [
    "full_dataset['Gross Weight'] = full_dataset['Gross Weight'].str.extract('(\\d+)').astype(float)\n",
    "\n",
    "print(full_dataset['Gross Weight'].head())"
   ]
  },
  {
   "cell_type": "code",
   "execution_count": 35,
   "id": "621bdaaa",
   "metadata": {},
   "outputs": [
    {
     "name": "stdout",
     "output_type": "stream",
     "text": [
      "0        NaN\n",
      "2    73 X 82\n",
      "3        NaN\n",
      "4    69 x 72\n",
      "5    75 x 87\n",
      "Name: BoreX Stroke, dtype: object\n"
     ]
    }
   ],
   "source": [
    "full_dataset['BoreX Stroke'] = full_dataset['BoreX Stroke'].str.replace('mm','',regex = False)\n",
    "full_dataset['BoreX Stroke'] = full_dataset['BoreX Stroke'].str.strip()\n",
    "print(full_dataset['BoreX Stroke'].head())"
   ]
  },
  {
   "cell_type": "code",
   "execution_count": 36,
   "id": "b665ff68",
   "metadata": {},
   "outputs": [
    {
     "name": "stdout",
     "output_type": "stream",
     "text": [
      "0    NaN\n",
      "2    NaN\n",
      "3    NaN\n",
      "4    NaN\n",
      "5    NaN\n",
      "Name: Ground Clearance Unladen, dtype: object\n"
     ]
    }
   ],
   "source": [
    "full_dataset['Ground Clearance Unladen'] = full_dataset['Ground Clearance Unladen'].str.replace('mm','',regex = False)\n",
    "full_dataset['Ground Clearance Unladen'] = full_dataset['Ground Clearance Unladen'].str.strip()\n",
    "print(full_dataset['Ground Clearance Unladen'].head())"
   ]
  },
  {
   "cell_type": "code",
   "execution_count": 37,
   "id": "55e2a936",
   "metadata": {},
   "outputs": [
    {
     "name": "stdout",
     "output_type": "stream",
     "text": [
      "0    3985\n",
      "2    3715\n",
      "3    3765\n",
      "4    3599\n",
      "5    4310\n",
      "Name: Length, dtype: object\n"
     ]
    }
   ],
   "source": [
    "full_dataset['Length'] = full_dataset['Length'].str.replace('mm','',regex = False)\n",
    "full_dataset['Length'] = full_dataset['Length'].str.replace(',','',regex = False)\n",
    "full_dataset['Length'] = full_dataset['Length'].str.strip()\n",
    "print(full_dataset['Length'].head())"
   ]
  },
  {
   "cell_type": "code",
   "execution_count": 38,
   "id": "0f5a6eba",
   "metadata": {},
   "outputs": [
    {
     "name": "stdout",
     "output_type": "stream",
     "text": [
      "0    1734\n",
      "2    1635\n",
      "3    1660\n",
      "4    1495\n",
      "5    1695\n",
      "Name: Width, dtype: object\n"
     ]
    }
   ],
   "source": [
    "full_dataset['Width'] = full_dataset['Width'].str.replace('mm','',regex = False)\n",
    "full_dataset['Width'] = full_dataset['Width'].str.replace(',','',regex = False)\n",
    "full_dataset['Width'] = full_dataset['Width'].str.strip()\n",
    "print(full_dataset['Width'].head())"
   ]
  },
  {
   "cell_type": "code",
   "execution_count": 39,
   "id": "5c085f51",
   "metadata": {},
   "outputs": [
    {
     "name": "stdout",
     "output_type": "stream",
     "text": [
      "0    3985\n",
      "2    3715\n",
      "3    3765\n",
      "4    3599\n",
      "5    4310\n",
      "Name: Length, dtype: object\n"
     ]
    }
   ],
   "source": [
    "full_dataset['Height'] = full_dataset['Length'].str.replace('mm','',regex = False)\n",
    "full_dataset['Height'] = full_dataset['Length'].str.replace(',','',regex = False)\n",
    "full_dataset['Height'] = full_dataset['Length'].str.strip()\n",
    "print(full_dataset['Length'].head())"
   ]
  },
  {
   "cell_type": "code",
   "execution_count": 74,
   "id": "d93e3dff",
   "metadata": {},
   "outputs": [
    {
     "name": "stdout",
     "output_type": "stream",
     "text": [
      "0    5.0\n",
      "2    4.0\n",
      "3    4.0\n",
      "4    4.0\n",
      "5    5.0\n",
      "Name: Turning Radius, dtype: float64\n"
     ]
    }
   ],
   "source": [
    "full_dataset['Turning Radius'] = full_dataset['Turning Radius'].str.extract('(\\d+)').astype(float)\n",
    "\n",
    "print(full_dataset['Turning Radius'].head())"
   ]
  },
  {
   "cell_type": "code",
   "execution_count": 75,
   "id": "27372f70",
   "metadata": {},
   "outputs": [
    {
     "data": {
      "text/plain": [
       "Turning Radius\n",
       "5.0       3454\n",
       "4.0       3177\n",
       "6.0        107\n",
       "11.0        16\n",
       "12.0         9\n",
       "13.0         4\n",
       "6250.0       1\n",
       "Name: count, dtype: int64"
      ]
     },
     "execution_count": 75,
     "metadata": {},
     "output_type": "execute_result"
    }
   ],
   "source": [
    "full_dataset['Turning Radius'].value_counts()"
   ]
  },
  {
   "cell_type": "code",
   "execution_count": 41,
   "id": "70e90f08",
   "metadata": {},
   "outputs": [
    {
     "name": "stdout",
     "output_type": "stream",
     "text": [
      "0            Tubeless\n",
      "2    Tubeless  Radial\n",
      "3            Tubeless\n",
      "4      Tubeless Tyres\n",
      "5     Tubeless Radial\n",
      "Name: Tyre Type, dtype: object\n"
     ]
    }
   ],
   "source": [
    "full_dataset['Tyre Type'] = full_dataset['Tyre Type'].str.replace(',',' ',regex = False)\n",
    "full_dataset['Tyre Type'] = full_dataset['Tyre Type'].str.strip()\n",
    "print(full_dataset['Tyre Type'].head())"
   ]
  },
  {
   "cell_type": "code",
   "execution_count": null,
   "id": "59db40aa",
   "metadata": {},
   "outputs": [],
   "source": []
  },
  {
   "cell_type": "code",
   "execution_count": 76,
   "id": "f0959216",
   "metadata": {},
   "outputs": [
    {
     "name": "stdout",
     "output_type": "stream",
     "text": [
      "<class 'pandas.core.frame.DataFrame'>\n",
      "Index: 8368 entries, 0 to 8368\n",
      "Data columns (total 67 columns):\n",
      " #   Column                         Non-Null Count  Dtype  \n",
      "---  ------                         --------------  -----  \n",
      " 0   it                             8368 non-null   int64  \n",
      " 1   body type                      8368 non-null   object \n",
      " 2   km                             8368 non-null   object \n",
      " 3   ownerNo                        8368 non-null   int64  \n",
      " 4   oem                            8368 non-null   object \n",
      " 5   model                          8368 non-null   object \n",
      " 6   modelYear                      8368 non-null   int64  \n",
      " 7   centralVariantId               8368 non-null   int64  \n",
      " 8   variantName                    8368 non-null   object \n",
      " 9   price                          8368 non-null   object \n",
      " 10  priceActual                    8368 non-null   object \n",
      " 11  Registration Year              8316 non-null   object \n",
      " 12  Insurance Validity             8364 non-null   object \n",
      " 13  Fuel Type                      8368 non-null   object \n",
      " 14  RTO                            7480 non-null   object \n",
      " 15  Ownership                      8336 non-null   object \n",
      " 16  Transmission                   8368 non-null   object \n",
      " 17  Year of Manufacture            8348 non-null   float64\n",
      " 18  Features                       8368 non-null   int64  \n",
      " 19  Comfort & Convenience          8300 non-null   float64\n",
      " 20  Interior                       8291 non-null   float64\n",
      " 21  Exterior                       8278 non-null   float64\n",
      " 22  Safety                         8272 non-null   float64\n",
      " 23  Entertainment & Communication  7273 non-null   float64\n",
      " 24  Mileage                        8081 non-null   object \n",
      " 25  Engine                         8364 non-null   object \n",
      " 26  Max Power                      8308 non-null   object \n",
      " 27  Torque                         8308 non-null   object \n",
      " 28  Wheel Size                     5386 non-null   object \n",
      " 29  Engine and Transmission        8365 non-null   float64\n",
      " 30  Color                          8365 non-null   object \n",
      " 31  Engine Type                    8073 non-null   object \n",
      " 32  Displacement                   8364 non-null   object \n",
      " 33  Max Torque                     8308 non-null   object \n",
      " 34  No of Cylinder                 8337 non-null   float64\n",
      " 35  Values per Cylinder            8317 non-null   float64\n",
      " 36  Value Configuration            6153 non-null   object \n",
      " 37  Fuel Suppy System              6642 non-null   object \n",
      " 38  Turbo Charger                  7329 non-null   object \n",
      " 39  Super Charger                  6407 non-null   object \n",
      " 40  Dimensions & Capacity          8328 non-null   float64\n",
      " 41  Length                         8289 non-null   object \n",
      " 42  Width                          8285 non-null   object \n",
      " 43  Height                         8289 non-null   object \n",
      " 44  Wheel Base                     8205 non-null   object \n",
      " 45  Front Tread                    4810 non-null   object \n",
      " 46  Rear Tread                     4798 non-null   object \n",
      " 47  Kerb Weight                    8309 non-null   object \n",
      " 48  Miscellaneous                  8363 non-null   float64\n",
      " 49  Gear Box                       8262 non-null   object \n",
      " 50  Drive Type                     6809 non-null   object \n",
      " 51  Seating Capacity               8362 non-null   object \n",
      " 52  Steering Type                  8113 non-null   object \n",
      " 53  Turning Radius                 6768 non-null   float64\n",
      " 54  Front Brake Type               8272 non-null   object \n",
      " 55  Rear Brake Type                8272 non-null   object \n",
      " 56  Top Speed                      4582 non-null   float64\n",
      " 57  Acceleration                   4857 non-null   float64\n",
      " 58  Tyre Type                      8291 non-null   object \n",
      " 59  Alloy Wheel Size               5386 non-null   object \n",
      " 60  No Door Numbers                8357 non-null   object \n",
      " 61  Cargo Volumn                   6775 non-null   float64\n",
      " 62  Gross Weight                   3827 non-null   float64\n",
      " 63  BoreX Stroke                   2405 non-null   object \n",
      " 64  Compression Ratio              1895 non-null   object \n",
      " 65  Ground Clearance Unladen       515 non-null    object \n",
      " 66  car_links                      8368 non-null   object \n",
      "dtypes: float64(16), int64(5), object(46)\n",
      "memory usage: 4.3+ MB\n"
     ]
    }
   ],
   "source": [
    "full_dataset.info()"
   ]
  },
  {
   "cell_type": "code",
   "execution_count": 77,
   "id": "556e7c7b",
   "metadata": {},
   "outputs": [
    {
     "data": {
      "text/html": [
       "<div>\n",
       "<style scoped>\n",
       "    .dataframe tbody tr th:only-of-type {\n",
       "        vertical-align: middle;\n",
       "    }\n",
       "\n",
       "    .dataframe tbody tr th {\n",
       "        vertical-align: top;\n",
       "    }\n",
       "\n",
       "    .dataframe thead th {\n",
       "        text-align: right;\n",
       "    }\n",
       "</style>\n",
       "<table border=\"1\" class=\"dataframe\">\n",
       "  <thead>\n",
       "    <tr style=\"text-align: right;\">\n",
       "      <th></th>\n",
       "      <th>it</th>\n",
       "      <th>body type</th>\n",
       "      <th>km</th>\n",
       "      <th>ownerNo</th>\n",
       "      <th>oem</th>\n",
       "      <th>model</th>\n",
       "      <th>modelYear</th>\n",
       "      <th>centralVariantId</th>\n",
       "      <th>variantName</th>\n",
       "      <th>price</th>\n",
       "      <th>...</th>\n",
       "      <th>Acceleration</th>\n",
       "      <th>Tyre Type</th>\n",
       "      <th>Alloy Wheel Size</th>\n",
       "      <th>No Door Numbers</th>\n",
       "      <th>Cargo Volumn</th>\n",
       "      <th>Gross Weight</th>\n",
       "      <th>BoreX Stroke</th>\n",
       "      <th>Compression Ratio</th>\n",
       "      <th>Ground Clearance Unladen</th>\n",
       "      <th>car_links</th>\n",
       "    </tr>\n",
       "  </thead>\n",
       "  <tbody>\n",
       "    <tr>\n",
       "      <th>0</th>\n",
       "      <td>0</td>\n",
       "      <td>Hatchback</td>\n",
       "      <td>120000</td>\n",
       "      <td>2</td>\n",
       "      <td>Hyundai</td>\n",
       "      <td>Hyundai i20</td>\n",
       "      <td>2015</td>\n",
       "      <td>1487</td>\n",
       "      <td>Asta 1.4 CRDi</td>\n",
       "      <td>5.10</td>\n",
       "      <td>...</td>\n",
       "      <td>11.0</td>\n",
       "      <td>Tubeless</td>\n",
       "      <td>16</td>\n",
       "      <td>5</td>\n",
       "      <td>295.0</td>\n",
       "      <td>NaN</td>\n",
       "      <td>NaN</td>\n",
       "      <td>NaN</td>\n",
       "      <td>NaN</td>\n",
       "      <td>https://www.cardekho.com/used-car-details/used...</td>\n",
       "    </tr>\n",
       "    <tr>\n",
       "      <th>2</th>\n",
       "      <td>0</td>\n",
       "      <td>Hatchback</td>\n",
       "      <td>80000</td>\n",
       "      <td>2</td>\n",
       "      <td>Maruti</td>\n",
       "      <td>Maruti Celerio</td>\n",
       "      <td>2016</td>\n",
       "      <td>3982</td>\n",
       "      <td>VXI AT</td>\n",
       "      <td>3.20</td>\n",
       "      <td>...</td>\n",
       "      <td>15.0</td>\n",
       "      <td>Tubeless  Radial</td>\n",
       "      <td>NaN</td>\n",
       "      <td>5</td>\n",
       "      <td>235.0</td>\n",
       "      <td>1250.0</td>\n",
       "      <td>73 X 82</td>\n",
       "      <td>11.0:1</td>\n",
       "      <td>NaN</td>\n",
       "      <td>https://www.cardekho.com/used-car-details/used...</td>\n",
       "    </tr>\n",
       "    <tr>\n",
       "      <th>3</th>\n",
       "      <td>0</td>\n",
       "      <td>Hatchback</td>\n",
       "      <td>44392</td>\n",
       "      <td>1</td>\n",
       "      <td>Hyundai</td>\n",
       "      <td>Hyundai Grand i10</td>\n",
       "      <td>2017</td>\n",
       "      <td>5602</td>\n",
       "      <td>1.2 Kappa Magna BSIV</td>\n",
       "      <td>4.20</td>\n",
       "      <td>...</td>\n",
       "      <td>12.0</td>\n",
       "      <td>Tubeless</td>\n",
       "      <td>NaN</td>\n",
       "      <td>5</td>\n",
       "      <td>256.0</td>\n",
       "      <td>NaN</td>\n",
       "      <td>NaN</td>\n",
       "      <td>NaN</td>\n",
       "      <td>NaN</td>\n",
       "      <td>https://www.cardekho.com/buy-used-car-details/...</td>\n",
       "    </tr>\n",
       "    <tr>\n",
       "      <th>4</th>\n",
       "      <td>0</td>\n",
       "      <td>Hatchback</td>\n",
       "      <td>40000</td>\n",
       "      <td>1</td>\n",
       "      <td>Maruti</td>\n",
       "      <td>Maruti Wagon R</td>\n",
       "      <td>2016</td>\n",
       "      <td>4319</td>\n",
       "      <td>AMT VXI</td>\n",
       "      <td>3.50</td>\n",
       "      <td>...</td>\n",
       "      <td>18.0</td>\n",
       "      <td>Tubeless Tyres</td>\n",
       "      <td>NaN</td>\n",
       "      <td>5</td>\n",
       "      <td>180.0</td>\n",
       "      <td>1350.0</td>\n",
       "      <td>69 x 72</td>\n",
       "      <td>NaN</td>\n",
       "      <td>NaN</td>\n",
       "      <td>https://www.cardekho.com/used-car-details/used...</td>\n",
       "    </tr>\n",
       "    <tr>\n",
       "      <th>5</th>\n",
       "      <td>0</td>\n",
       "      <td>Sedan</td>\n",
       "      <td>150000</td>\n",
       "      <td>2</td>\n",
       "      <td>Hyundai</td>\n",
       "      <td>Hyundai Verna</td>\n",
       "      <td>2007</td>\n",
       "      <td>1796</td>\n",
       "      <td>CRDi</td>\n",
       "      <td>1.50</td>\n",
       "      <td>...</td>\n",
       "      <td>11.0</td>\n",
       "      <td>Tubeless Radial</td>\n",
       "      <td>14</td>\n",
       "      <td>4</td>\n",
       "      <td>352.0</td>\n",
       "      <td>1650.0</td>\n",
       "      <td>75 x 87</td>\n",
       "      <td>17.8:1</td>\n",
       "      <td>NaN</td>\n",
       "      <td>https://www.cardekho.com/used-car-details/used...</td>\n",
       "    </tr>\n",
       "  </tbody>\n",
       "</table>\n",
       "<p>5 rows × 67 columns</p>\n",
       "</div>"
      ],
      "text/plain": [
       "   it  body type      km  ownerNo      oem              model  modelYear  \\\n",
       "0   0  Hatchback  120000        2  Hyundai        Hyundai i20       2015   \n",
       "2   0  Hatchback   80000        2   Maruti     Maruti Celerio       2016   \n",
       "3   0  Hatchback   44392        1  Hyundai  Hyundai Grand i10       2017   \n",
       "4   0  Hatchback   40000        1   Maruti     Maruti Wagon R       2016   \n",
       "5   0      Sedan  150000        2  Hyundai      Hyundai Verna       2007   \n",
       "\n",
       "   centralVariantId           variantName price  ... Acceleration  \\\n",
       "0              1487         Asta 1.4 CRDi  5.10  ...         11.0   \n",
       "2              3982                VXI AT  3.20  ...         15.0   \n",
       "3              5602  1.2 Kappa Magna BSIV  4.20  ...         12.0   \n",
       "4              4319               AMT VXI  3.50  ...         18.0   \n",
       "5              1796                  CRDi  1.50  ...         11.0   \n",
       "\n",
       "          Tyre Type Alloy Wheel Size No Door Numbers Cargo Volumn  \\\n",
       "0          Tubeless               16               5        295.0   \n",
       "2  Tubeless  Radial              NaN               5        235.0   \n",
       "3          Tubeless              NaN               5        256.0   \n",
       "4    Tubeless Tyres              NaN               5        180.0   \n",
       "5   Tubeless Radial               14               4        352.0   \n",
       "\n",
       "  Gross Weight BoreX Stroke  Compression Ratio  Ground Clearance Unladen  \\\n",
       "0          NaN          NaN                NaN                       NaN   \n",
       "2       1250.0      73 X 82             11.0:1                       NaN   \n",
       "3          NaN          NaN                NaN                       NaN   \n",
       "4       1350.0      69 x 72                NaN                       NaN   \n",
       "5       1650.0      75 x 87             17.8:1                       NaN   \n",
       "\n",
       "                                           car_links  \n",
       "0  https://www.cardekho.com/used-car-details/used...  \n",
       "2  https://www.cardekho.com/used-car-details/used...  \n",
       "3  https://www.cardekho.com/buy-used-car-details/...  \n",
       "4  https://www.cardekho.com/used-car-details/used...  \n",
       "5  https://www.cardekho.com/used-car-details/used...  \n",
       "\n",
       "[5 rows x 67 columns]"
      ]
     },
     "execution_count": 77,
     "metadata": {},
     "output_type": "execute_result"
    }
   ],
   "source": [
    "full_dataset.head()"
   ]
  },
  {
   "cell_type": "code",
   "execution_count": 78,
   "id": "cb2cfea9",
   "metadata": {},
   "outputs": [],
   "source": [
    "full_dataset.to_csv('/Users/jainivedhitha/Desktop/car_dekho.csv',index = False)"
   ]
  }
 ],
 "metadata": {
  "kernelspec": {
   "display_name": "Python 3 (ipykernel)",
   "language": "python",
   "name": "python3"
  },
  "language_info": {
   "codemirror_mode": {
    "name": "ipython",
    "version": 3
   },
   "file_extension": ".py",
   "mimetype": "text/x-python",
   "name": "python",
   "nbconvert_exporter": "python",
   "pygments_lexer": "ipython3",
   "version": "3.11.5"
  }
 },
 "nbformat": 4,
 "nbformat_minor": 5
}
